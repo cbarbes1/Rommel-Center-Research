{
 "cells": [
  {
   "cell_type": "code",
   "execution_count": 25,
   "metadata": {},
   "outputs": [],
   "source": [
    "import pandas as pd\n",
    "from transformers import BertTokenizer, BertModel\n",
    "import torch\n",
    "from sklearn.manifold import TSNE\n",
    "from sklearn.cluster import AgglomerativeClustering\n",
    "import plotly.express as px\n",
    "import numpy as np\n",
    "import plotly.io as pio\n",
    "\n",
    "pio.renderers.default = \"notebook\""
   ]
  },
  {
   "cell_type": "code",
   "execution_count": 3,
   "metadata": {},
   "outputs": [
    {
     "data": {
      "text/plain": [
       "BertModel(\n",
       "  (embeddings): BertEmbeddings(\n",
       "    (word_embeddings): Embedding(30522, 768, padding_idx=0)\n",
       "    (position_embeddings): Embedding(512, 768)\n",
       "    (token_type_embeddings): Embedding(2, 768)\n",
       "    (LayerNorm): LayerNorm((768,), eps=1e-12, elementwise_affine=True)\n",
       "    (dropout): Dropout(p=0.1, inplace=False)\n",
       "  )\n",
       "  (encoder): BertEncoder(\n",
       "    (layer): ModuleList(\n",
       "      (0-11): 12 x BertLayer(\n",
       "        (attention): BertAttention(\n",
       "          (self): BertSelfAttention(\n",
       "            (query): Linear(in_features=768, out_features=768, bias=True)\n",
       "            (key): Linear(in_features=768, out_features=768, bias=True)\n",
       "            (value): Linear(in_features=768, out_features=768, bias=True)\n",
       "            (dropout): Dropout(p=0.1, inplace=False)\n",
       "          )\n",
       "          (output): BertSelfOutput(\n",
       "            (dense): Linear(in_features=768, out_features=768, bias=True)\n",
       "            (LayerNorm): LayerNorm((768,), eps=1e-12, elementwise_affine=True)\n",
       "            (dropout): Dropout(p=0.1, inplace=False)\n",
       "          )\n",
       "        )\n",
       "        (intermediate): BertIntermediate(\n",
       "          (dense): Linear(in_features=768, out_features=3072, bias=True)\n",
       "          (intermediate_act_fn): GELUActivation()\n",
       "        )\n",
       "        (output): BertOutput(\n",
       "          (dense): Linear(in_features=3072, out_features=768, bias=True)\n",
       "          (LayerNorm): LayerNorm((768,), eps=1e-12, elementwise_affine=True)\n",
       "          (dropout): Dropout(p=0.1, inplace=False)\n",
       "        )\n",
       "      )\n",
       "    )\n",
       "  )\n",
       "  (pooler): BertPooler(\n",
       "    (dense): Linear(in_features=768, out_features=768, bias=True)\n",
       "    (activation): Tanh()\n",
       "  )\n",
       ")"
      ]
     },
     "execution_count": 3,
     "metadata": {},
     "output_type": "execute_result"
    }
   ],
   "source": [
    "tokenizer = BertTokenizer.from_pretrained(\"bert-base-uncased\")\n",
    "model = BertModel.from_pretrained(\"bert-base-uncased\")\n",
    "model.eval()\n",
    "model.to(\"cuda\" if torch.cuda.is_available() else \"cpu\")"
   ]
  },
  {
   "cell_type": "code",
   "execution_count": 30,
   "metadata": {},
   "outputs": [
    {
     "data": {
      "text/html": [
       "<div>\n",
       "<style scoped>\n",
       "    .dataframe tbody tr th:only-of-type {\n",
       "        vertical-align: middle;\n",
       "    }\n",
       "\n",
       "    .dataframe tbody tr th {\n",
       "        vertical-align: top;\n",
       "    }\n",
       "\n",
       "    .dataframe thead th {\n",
       "        text-align: right;\n",
       "    }\n",
       "</style>\n",
       "<table border=\"1\" class=\"dataframe\">\n",
       "  <thead>\n",
       "    <tr style=\"text-align: right;\">\n",
       "      <th></th>\n",
       "      <th>Abstract</th>\n",
       "      <th>WoS Categories</th>\n",
       "    </tr>\n",
       "  </thead>\n",
       "  <tbody>\n",
       "    <tr>\n",
       "      <th>0</th>\n",
       "      <td>ObjectiveSexual victimization experience is a ...</td>\n",
       "      <td>Education &amp; Educational Research; Public, Envi...</td>\n",
       "    </tr>\n",
       "    <tr>\n",
       "      <th>1</th>\n",
       "      <td>Binary success/failure data is an important ty...</td>\n",
       "      <td>Statistics &amp; Probability</td>\n",
       "    </tr>\n",
       "    <tr>\n",
       "      <th>2</th>\n",
       "      <td>Two studies examined relations of humor styles...</td>\n",
       "      <td>Psychology, Social</td>\n",
       "    </tr>\n",
       "    <tr>\n",
       "      <th>3</th>\n",
       "      <td>This paper examines the hitherto unexplored su...</td>\n",
       "      <td>Political Science</td>\n",
       "    </tr>\n",
       "    <tr>\n",
       "      <th>4</th>\n",
       "      <td>This study's objective is to examine the role ...</td>\n",
       "      <td>Business, Finance</td>\n",
       "    </tr>\n",
       "  </tbody>\n",
       "</table>\n",
       "</div>"
      ],
      "text/plain": [
       "                                            Abstract  \\\n",
       "0  ObjectiveSexual victimization experience is a ...   \n",
       "1  Binary success/failure data is an important ty...   \n",
       "2  Two studies examined relations of humor styles...   \n",
       "3  This paper examines the hitherto unexplored su...   \n",
       "4  This study's objective is to examine the role ...   \n",
       "\n",
       "                                      WoS Categories  \n",
       "0  Education & Educational Research; Public, Envi...  \n",
       "1                           Statistics & Probability  \n",
       "2                                 Psychology, Social  \n",
       "3                                  Political Science  \n",
       "4                                  Business, Finance  "
      ]
     },
     "execution_count": 30,
     "metadata": {},
     "output_type": "execute_result"
    }
   ],
   "source": [
    "file_path = \"./abstract_cat_wos.xls\"\n",
    "data = pd.read_excel(file_path)\n",
    "\n",
    "# Extract just the abstracts and categories\n",
    "ab_wos_cat = data[[\"Abstract\", \"WoS Categories\"]]\n",
    "ab_wos_cat.head()"
   ]
  },
  {
   "cell_type": "code",
   "execution_count": 13,
   "metadata": {},
   "outputs": [
    {
     "data": {
      "text/html": [
       "<div>\n",
       "<style scoped>\n",
       "    .dataframe tbody tr th:only-of-type {\n",
       "        vertical-align: middle;\n",
       "    }\n",
       "\n",
       "    .dataframe tbody tr th {\n",
       "        vertical-align: top;\n",
       "    }\n",
       "\n",
       "    .dataframe thead th {\n",
       "        text-align: right;\n",
       "    }\n",
       "</style>\n",
       "<table border=\"1\" class=\"dataframe\">\n",
       "  <thead>\n",
       "    <tr style=\"text-align: right;\">\n",
       "      <th></th>\n",
       "      <th>Abstract</th>\n",
       "      <th>Primary Category</th>\n",
       "    </tr>\n",
       "  </thead>\n",
       "  <tbody>\n",
       "    <tr>\n",
       "      <th>0</th>\n",
       "      <td>ObjectiveSexual victimization experience is a ...</td>\n",
       "      <td>Education &amp; Educational Research</td>\n",
       "    </tr>\n",
       "    <tr>\n",
       "      <th>1</th>\n",
       "      <td>Binary success/failure data is an important ty...</td>\n",
       "      <td>Statistics &amp; Probability</td>\n",
       "    </tr>\n",
       "    <tr>\n",
       "      <th>2</th>\n",
       "      <td>Two studies examined relations of humor styles...</td>\n",
       "      <td>Psychology, Social</td>\n",
       "    </tr>\n",
       "    <tr>\n",
       "      <th>3</th>\n",
       "      <td>This paper examines the hitherto unexplored su...</td>\n",
       "      <td>Political Science</td>\n",
       "    </tr>\n",
       "    <tr>\n",
       "      <th>4</th>\n",
       "      <td>This study's objective is to examine the role ...</td>\n",
       "      <td>Business, Finance</td>\n",
       "    </tr>\n",
       "  </tbody>\n",
       "</table>\n",
       "</div>"
      ],
      "text/plain": [
       "                                            Abstract  \\\n",
       "0  ObjectiveSexual victimization experience is a ...   \n",
       "1  Binary success/failure data is an important ty...   \n",
       "2  Two studies examined relations of humor styles...   \n",
       "3  This paper examines the hitherto unexplored su...   \n",
       "4  This study's objective is to examine the role ...   \n",
       "\n",
       "                   Primary Category  \n",
       "0  Education & Educational Research  \n",
       "1          Statistics & Probability  \n",
       "2                Psychology, Social  \n",
       "3                 Political Science  \n",
       "4                 Business, Finance  "
      ]
     },
     "execution_count": 13,
     "metadata": {},
     "output_type": "execute_result"
    }
   ],
   "source": [
    "cleaned_data = ab_wos_cat.copy()\n",
    "cleaned_data = cleaned_data.dropna()\n",
    "cleaned_data.loc[:, \"Primary Category\"] = cleaned_data[\"WoS Categories\"].apply(\n",
    "    lambda x: x.split(\";\")[0].strip()\n",
    ")\n",
    "cleaned_data = cleaned_data.drop(\"WoS Categories\", axis=1)\n",
    "cleaned_data.head()"
   ]
  },
  {
   "cell_type": "code",
   "execution_count": null,
   "metadata": {},
   "outputs": [],
   "source": [
    "unique_cats = cleaned_data[\"Primary Category\"].unique()\n",
    "sorted_categories = np.sort(unique_cats)"
   ]
  },
  {
   "cell_type": "code",
   "execution_count": 14,
   "metadata": {},
   "outputs": [],
   "source": [
    "def encode_abstracts(abstracts, tokenizer, model, batch_size=8):\n",
    "    embeddings = []\n",
    "    for i in range(0, len(abstracts), batch_size):\n",
    "        batch_texts = abstracts[i : i + batch_size]\n",
    "        inputs = tokenizer(\n",
    "            batch_texts,\n",
    "            return_tensors=\"pt\",\n",
    "            padding=True,\n",
    "            truncation=True,\n",
    "            max_length=512,\n",
    "        )\n",
    "        inputs = inputs.to(\"cuda\" if torch.cuda.is_available() else \"cpu\")\n",
    "        with torch.no_grad():\n",
    "            outputs = model(**inputs)\n",
    "        embeddings.append(outputs.pooler_output.cpu().numpy())\n",
    "    return np.vstack(embeddings)"
   ]
  },
  {
   "cell_type": "code",
   "execution_count": 18,
   "metadata": {},
   "outputs": [],
   "source": [
    "embeddings = encode_abstracts(cleaned_data[\"Abstract\"].tolist(), tokenizer, model)"
   ]
  },
  {
   "cell_type": "markdown",
   "metadata": {},
   "source": [
    "# VERSION 1"
   ]
  },
  {
   "cell_type": "code",
   "execution_count": 20,
   "metadata": {},
   "outputs": [],
   "source": [
    "# Dimensionality reduction and clustering\n",
    "tsne_2d = TSNE(n_components=2, random_state=42)\n",
    "embeddings_2d = tsne_2d.fit_transform(embeddings)\n",
    "\n",
    "tsne_3d = TSNE(n_components=3, random_state=42)\n",
    "embeddings_3d = tsne_3d.fit_transform(embeddings)\n",
    "\n",
    "clustering = AgglomerativeClustering(n_clusters=None, distance_threshold=0)\n",
    "clusters = clustering.fit_predict(embeddings)"
   ]
  },
  {
   "cell_type": "code",
   "execution_count": 36,
   "metadata": {},
   "outputs": [],
   "source": [
    "def plot_interactive(embeddings, clusters, categories, dimensions=2):\n",
    "    df = pd.DataFrame(\n",
    "        embeddings, columns=[f\"Component {i+1}\" for i in range(dimensions)]\n",
    "    )\n",
    "    df[\"Category\"] = categories\n",
    "    df[\"Cluster\"] = clusters\n",
    "    if dimensions == 2:\n",
    "        fig = px.scatter(\n",
    "            df,\n",
    "            x=\"Component 1\",\n",
    "            y=\"Component 2\",\n",
    "            color=\"Category\",\n",
    "            hover_data=[\"Cluster\"],\n",
    "        )\n",
    "    else:\n",
    "        fig = px.scatter_3d(\n",
    "            df,\n",
    "            x=\"Component 1\",\n",
    "            y=\"Component 2\",\n",
    "            z=\"Component 3\",\n",
    "            color=\"Category\",\n",
    "            hover_data=[\"Cluster\"],\n",
    "        )\n",
    "\n",
    "    category_color_mapping = {\n",
    "        category: trace.marker.color\n",
    "        for category, trace in zip(sorted(set(categories)), fig.data)\n",
    "    }\n",
    "\n",
    "    # Write category-color mapping to a text file\n",
    "    with open(\"category_color_mapping.txt\", \"w\") as f:\n",
    "        for category, color in category_color_mapping.items():\n",
    "            f.write(f\"{category}: {color}\\n\")\n",
    "\n",
    "    fig.write_html(\"plot.html\")\n",
    "\n",
    "\n",
    "# generate plots\n",
    "categories = cleaned_data[\"Primary Category\"].tolist()\n",
    "plot_interactive(embeddings_2d, clusters, categories, dimensions=2)\n",
    "# plot_interactive(embeddings_3d, clusters, categories, dimensions=3)"
   ]
  },
  {
   "cell_type": "markdown",
   "metadata": {},
   "source": [
    "# VERSION 2"
   ]
  },
  {
   "cell_type": "code",
   "execution_count": 34,
   "metadata": {},
   "outputs": [],
   "source": [
    "tsne_embeddings = TSNE(n_components=2, random_state=42).fit_transform(embeddings)\n",
    "\n",
    "# hierarchical clustering\n",
    "clustering_model = AgglomerativeClustering(n_clusters=None, distance_threshold=0)\n",
    "clusters = clustering_model.fit_predict(embeddings)\n",
    "\n",
    "# Visualization\n",
    "df = pd.DataFrame(tsne_embeddings, columns=[\"TSNE1\", \"TSNE2\"])\n",
    "df[\"Cluster\"] = clusters\n",
    "df[\"Category\"] = data[\"WoS Categories\"].apply(lambda x: x.split(\";\")[0])\n",
    "\n",
    "fig_2d = px.scatter(\n",
    "    df,\n",
    "    x=\"TSNE1\",\n",
    "    y=\"TSNE2\",\n",
    "    color=\"Category\",\n",
    "    symbol=\"Cluster\",\n",
    "    hover_data=[\"Category\", \"Cluster\"],\n",
    ")\n",
    "fig_2d.update_traces(marker=dict(size=10, opacity=0.7), selector=dict(mode=\"markers\"))\n",
    "fig_2d.write_html(\"plot2.html\")"
   ]
  }
 ],
 "metadata": {
  "kernelspec": {
   "display_name": "modelenv",
   "language": "python",
   "name": "python3"
  },
  "language_info": {
   "codemirror_mode": {
    "name": "ipython",
    "version": 3
   },
   "file_extension": ".py",
   "mimetype": "text/x-python",
   "name": "python",
   "nbconvert_exporter": "python",
   "pygments_lexer": "ipython3",
   "version": "3.9.18"
  }
 },
 "nbformat": 4,
 "nbformat_minor": 2
}
