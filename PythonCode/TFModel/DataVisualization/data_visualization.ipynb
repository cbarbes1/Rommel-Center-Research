{
 "cells": [
  {
   "cell_type": "code",
   "execution_count": 8,
   "metadata": {},
   "outputs": [],
   "source": [
    "import pandas as pd\n",
    "\n",
    "# Load savedrecs excel file\n",
    "file_path = './abstract_cat_wos.xls'\n",
    "data = pd.read_excel(file_path)\n",
    "\n",
    "# Display first few rows\n",
    "#data.head()"
   ]
  },
  {
   "cell_type": "code",
   "execution_count": null,
   "metadata": {},
   "outputs": [],
   "source": [
    "# Extract just the abstracts and categories\n",
    "ab_wos_cat = data[['Abstract', 'WoS Categories']]\n",
    "\n",
    "ab_wos_cat.head()"
   ]
  },
  {
   "cell_type": "code",
   "execution_count": null,
   "metadata": {},
   "outputs": [],
   "source": [
    "# Get rid of rows with any missing values\n",
    "cleaned_data = ab_wos_cat.dropna()\n",
    "cleaned_data.head()"
   ]
  },
  {
   "cell_type": "code",
   "execution_count": null,
   "metadata": {},
   "outputs": [],
   "source": [
    "# Just get first category\n",
    "cleaned_data = cleaned_data.drop('cat', axis=1)\n",
    "cleaned_data.loc[:, 'Primary Category'] = cleaned_data['WoS Categories'].apply(lambda x: x.split(';')[0].strip())\n",
    "cleaned_data.head()"
   ]
  },
  {
   "cell_type": "code",
   "execution_count": null,
   "metadata": {},
   "outputs": [],
   "source": [
    "# Raw Visualization\n",
    "import matplotlib.pyplot as plt\n",
    "from collections import Counter\n",
    "\n",
    "primary_cat_counts = Counter(cleaned_data['Primary Category'])\n",
    "\n",
    "# 20 most common categories\n",
    "common_cats = primary_cat_counts.most_common(20)\n",
    "primary_cats, primary_counts = zip(*common_cats)\n",
    "\n",
    "# Bar plot\n",
    "plt.figure(figsize=(20, 18))\n",
    "plt.barh(primary_cats, primary_counts, color='blue')\n",
    "plt.xlabel('Frequency')\n",
    "plt.ylabel('Primary Category')\n",
    "plt.title('20 Most Common Cats')\n",
    "plt.gca().invert_yaxis() # Puts highest frequency at top instead of bottom\n",
    "plt.show()"
   ]
  },
  {
   "cell_type": "code",
   "execution_count": 27,
   "metadata": {},
   "outputs": [],
   "source": [
    "# Scatter Plot\n",
    "from sklearn.manifold import TSNE\n",
    "# plt, pd\n",
    "from transformers import BertModel, BertTokenizer\n",
    "import torch\n",
    "from torch.utils.data import TensorDataset, DataLoader\n",
    "import numpy as np"
   ]
  },
  {
   "cell_type": "code",
   "execution_count": 40,
   "metadata": {},
   "outputs": [],
   "source": [
    "# Create the category_to_int mapping\n",
    "unique_categories = cleaned_data['Primary Category'].unique()\n",
    "category_to_int = {category: i for i, category in enumerate(unique_categories)}\n"
   ]
  },
  {
   "cell_type": "code",
   "execution_count": 41,
   "metadata": {},
   "outputs": [],
   "source": [
    "# Step 1: Load BERT model and tokenizer\n",
    "model_name = 'bert-base-uncased'\n",
    "tokenizer = BertTokenizer.from_pretrained(model_name)\n",
    "model = BertModel.from_pretrained(model_name)\n"
   ]
  },
  {
   "cell_type": "code",
   "execution_count": 42,
   "metadata": {},
   "outputs": [],
   "source": [
    "# Encode texts with BERT\n",
    "def encode_texts(texts, tokenizer, model, batch_size=8):\n",
    "    device = torch.device(\"cuda\" if torch.cuda.is_available() else \"cpu\")\n",
    "    model.to(device)\n",
    "    model.eval()\n",
    "    \n",
    "    # Tokenize texts and create batches\n",
    "    tokens = tokenizer(texts, padding=True, \n",
    "                       truncation=True, max_length=512, \n",
    "                       return_tensors=\"pt\")\n",
    "    dataset = TensorDataset(tokens.input_ids, tokens.attention_mask)\n",
    "    dataloader = DataLoader(dataset, batch_size=batch_size)\n",
    "    \n",
    "    # Encode texts in batches\n",
    "    embeddings = []\n",
    "    with torch.no_grad():\n",
    "        for batch in dataloader:\n",
    "            input_ids, attention_mask = [b.to(device) for b in batch]\n",
    "            outputs = model(input_ids=input_ids, attention_mask=attention_mask)\n",
    "            embeddings.append(outputs.last_hidden_state[:, 0, :].cpu().numpy())\n",
    "    embeddings = np.vstack(embeddings)\n",
    "    return embeddings"
   ]
  },
  {
   "cell_type": "code",
   "execution_count": 43,
   "metadata": {},
   "outputs": [],
   "source": [
    "# Step 2: Encode abstracts\n",
    "texts = cleaned_data['Abstract'].tolist()\n",
    "embeddings = encode_texts(texts, tokenizer, model)"
   ]
  },
  {
   "cell_type": "code",
   "execution_count": 39,
   "metadata": {},
   "outputs": [],
   "source": [
    "# Step 3: Apply t-SNE\n",
    "tsne = TSNE(n_components=2, random_state=42)\n",
    "reduced_embeddings = tsne.fit_transform(embeddings)"
   ]
  },
  {
   "cell_type": "code",
   "execution_count": 44,
   "metadata": {},
   "outputs": [],
   "source": [
    "# Colors for scatter plot\n",
    "colors = cleaned_data['Primary Category'].map(category_to_int)"
   ]
  },
  {
   "cell_type": "code",
   "execution_count": null,
   "metadata": {},
   "outputs": [],
   "source": [
    "# Step 4: Visualization\n",
    "plt.figure(figsize=(12, 10))\n",
    "plt.scatter(reduced_embeddings[:, 0], reduced_embeddings[:, 1], c=colors, cmap='hsv', alpha=0.5)\n",
    "plt.colorbar()\n",
    "plt.title('t-SNE Visualization of Abstracts with BERT Embeddings')\n",
    "plt.xlabel('t-SNE Dimension 1')\n",
    "plt.ylabel('t-SNE Dimension 2')\n",
    "plt.show()"
   ]
  },
  {
   "cell_type": "code",
   "execution_count": 48,
   "metadata": {},
   "outputs": [],
   "source": [
    "def encode_abstracts(abstracts):\n",
    "    inputs = tokenizer(abstracts, padding=True, truncation=True, max_length=512, return_tensors='pt')\n",
    "    outputs = model(**inputs)\n",
    "    # Use the pooled output for sentence-level representations\n",
    "    embeddings = outputs.pooler_output\n",
    "    return embeddings.detach().numpy()"
   ]
  },
  {
   "cell_type": "code",
   "execution_count": 49,
   "metadata": {},
   "outputs": [],
   "source": [
    "def reduce_dimensions(embeddings):\n",
    "    tsne = TSNE(n_components=2, random_state=42)\n",
    "    reduced_embeddings = tsne.fit_transform(embeddings)\n",
    "    return reduced_embeddings"
   ]
  },
  {
   "cell_type": "code",
   "execution_count": null,
   "metadata": {},
   "outputs": [],
   "source": [
    "file_path2 = './abstract_cat_wos.xls'\n",
    "data2 = pd.read_excel(file_path)\n",
    "\n",
    "abstracts = [str(abstract) for abstract in data2['Abstract'].tolist() if str(abstract).strip()]\n",
    "categories = data2['WoS Categories'].tolist()\n",
    "\n",
    "embeddings2 = encode_abstracts(abstracts)\n",
    "reduced_embeddings2 = reduce_dimensions(embeddings)\n",
    "\n",
    "unique_categories2 = list(set(categories))\n",
    "category2int = {category: i for i, category in enumerate(unique_categories2)}\n",
    "clr = [category2int[category] for category in categories]\n",
    "\n",
    "# Visualize\n",
    "plt.figure(figsize=(12, 10))\n",
    "plt.scatter(reduced_embeddings[:, 0], reduced_embeddings[:, 1], c=colors, cmap='viridis', alpha=0.5)\n",
    "plt.colorbar(ticks=range(len(unique_categories)))\n",
    "plt.clim(-0.5, len(unique_categories)-0.5)\n",
    "plt.title('Visualization of Abstracts by Category')\n",
    "plt.show()"
   ]
  }
 ],
 "metadata": {
  "kernelspec": {
   "display_name": "modelenv",
   "language": "python",
   "name": "python3"
  },
  "language_info": {
   "codemirror_mode": {
    "name": "ipython",
    "version": 3
   },
   "file_extension": ".py",
   "mimetype": "text/x-python",
   "name": "python",
   "nbconvert_exporter": "python",
   "pygments_lexer": "ipython3",
   "version": "3.9.18"
  }
 },
 "nbformat": 4,
 "nbformat_minor": 2
}
