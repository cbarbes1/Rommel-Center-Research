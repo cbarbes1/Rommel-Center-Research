{
 "cells": [
  {
   "cell_type": "code",
   "execution_count": 2,
   "metadata": {},
   "outputs": [],
   "source": [
    "import pandas as pd"
   ]
  },
  {
   "cell_type": "code",
   "execution_count": 3,
   "metadata": {},
   "outputs": [],
   "source": [
    "class ProfessorDumpToPandas:\n",
    "    def __init__(self, csv_path: str):\n",
    "        self.csv_path = csv_path\n",
    "        self.df = self.read_csv()\n",
    "    \n",
    "    def read_csv(self):\n",
    "        return pd.read_csv(self.csv_path)\n"
   ]
  },
  {
   "cell_type": "code",
   "execution_count": 4,
   "metadata": {},
   "outputs": [],
   "source": [
    "pdump = ProfessorDumpToPandas('/mnt/linuxlab/home/spresley1/Desktop/425Reset/Rommel-Center-Research/PythonCode/Utilities/RuntimeFiles/professor_department_dump.csv')\n",
    "pdump_df = pdump.df"
   ]
  },
  {
   "cell_type": "code",
   "execution_count": 5,
   "metadata": {},
   "outputs": [],
   "source": [
    "official_professor_names_and_dept: dict[str, str] = {}\n",
    "\n",
    "for row in pdump_df.itertuples(index=False):\n",
    "    key = f\"{row.lastName}, {row.firstName}\"\n",
    "    if key not in official_professor_names_and_dept:\n",
    "        official_professor_names_and_dept[key] = [row.departmentCode]\n",
    "    else:\n",
    "        official_professor_names_and_dept[key].append(row.departmentCode)"
   ]
  },
  {
   "cell_type": "code",
   "execution_count": 6,
   "metadata": {},
   "outputs": [
    {
     "name": "stdout",
     "output_type": "stream",
     "text": [
      "{'Rayne, Karen E.', 'Vitanovec, David G', 'Rose, Stephanie Christine', 'Willoughby, Robert W', 'Starkey, A J', 'Moriarty, Loren', 'Brown III, Edward', 'Ramanathan, Gurupriya', 'Jodlbauer, Eric A', 'Habermeyer, Ryan M', 'Wilson, Vickie Julene', 'Caviglia-Harris, Jill L', 'Carter, Michael S', 'Harvey, Stephen Philip', 'Winterson, April C', 'Lynerd, Dana Leigh', 'Cardoni, Mary Patricia', 'Freda, Kaynabess', 'Andes, Jon M', 'Hults, Diana Katherine', 'Wilson, Darrell K', 'Yao, Hong', 'Auerbach, Anna Jo J', 'Jeon, Kwonchan', 'Jensen, Scott R', 'Keter, Dawn A.', 'Pubill, Corinne', 'Shannon, Kathleen M.', 'Martin, Linda Sines', 'Goldhagen, Carl E', 'Brown Jr, Marvin O.', 'Hunter, Kimberly L', 'Propper, Stacey Elizabeth', 'Phillips, Sara Lynn', 'Rogers, Janet R', 'Maloof, Joan E.', 'Van Metre, Edward H.', 'Wright, Jennifer Owens', 'Imbrenda, Jon-Philip', 'Martino, Andrew P', 'Ennis, Bonnie Hall', 'Hutchinson, Victoria V.', 'Ward, Thomas Woodrow Wilson', 'McCormick, Kimberly M', 'Williams, Ellis Eugene', 'Higgins, Dawn M', 'Vicens Saiz, Belen', 'Kendzejeski, Rachel L', 'Rojas, Anthony J', 'Tigani, Michael A', 'King, Fred T', 'Messick, Angela M', 'Morrison, Lucy J', 'Aguilar, Alexis L.', 'Stoddard, Ann B', 'Clark, Colleen M', 'White, Arlene F.', 'Green, Daniel C', 'Walter, Mark I.', 'Reckley-Murphy, Joy A', 'Moghaddam, Masoud', 'Bolek, Sarah Alma', 'Wright, John W.', 'Jewell, Jennifer R', 'Semanoff, Jason Henry', 'Prouse, Angela B', 'Clark, Shanetia P', 'Moszer, Letha Faye  Meyer', 'Howard, Lisa Noelle', 'Davis, Karen Sue', 'Diamonte-Mock, Christina M', 'Guy, Sarah Ann', 'Fabbri, Kimberly A', 'Gutoskey, David J.', 'Miller, Jason Lawrence', 'Maykrantz, Sherry Azadi', 'Shaffer, Mark A', 'Verzi, Diana W', 'Timko-Jodlbauer, Sarah A', 'Ingolia, Joseph', 'Todd, Arthur W.', 'Sala, Araina Day', 'Gibson IV, Samuel Thomas', 'Bradley, Christina J', 'Zimmer, Susan Elizabeth', 'Eun, Jihyun', 'Beebe, Alfred S', 'Bukolt, Deborah A', 'Binkley, Anne V', 'Sims, Thomas', 'Thorpe, Laura T.', 'Smith, Michael D', 'Piatselchyts, Irina A', 'Usilton, Leigh Elizabeth', 'Mullins, Darrell G.', 'Harris, Larry Albert', 'An, Jin', 'Thomas, Rosemary M.', 'Welsh, Gail S.', 'Stanzione, Eileen H', 'Bailey, Stephen M.', 'Kundell, Frederick A.', 'Gilbert, Katie M', 'Brewington, Denise Condon', 'Wu, Yun', 'Keene, Brooke Lee', 'Friese, Martin', 'Martin, Donna M', 'Cook, Emilie A.', 'Buffone, Joan C.', 'Nestor Jr, James P.', 'Dickerson, Crystal Cecelia', 'Richerson, Nancy B', 'Hines, Megan Reese', 'Bergin, Molly M', 'Nina-Matos, Belgica J.', 'Spicer, Theresa Ann', 'Van de Wiele, Aurelie', 'Becker, Robert W', 'Molenda, Sally M', 'Kjeldsen, Joan Bromhall', 'Ripperger, Shelby Jo', 'Wilhelm, Kelli Dawn', 'Eckard, Ashley M', 'Barzilai, Harel', 'Davis, Wesley P', 'Sadowski, Amy Elizabeth', 'Ramseyer, Craig A', 'TBD, nan', 'Dombrowski, Robert F.', 'Buchanan, Rachel L.', 'Kirtsos, Michael Patrick', 'Mathews, Deborah Ann', 'Lamboni, Patrick M.', 'Michel, Lucia Claire', 'Walton-Wade, Kristen P', 'White, Barbara J', 'Wilson, Laura Ann', 'Lewis, Sara Wolff', 'Williams, Evangeline B', 'Dean, Jeffrey James', 'Donaway, Tammy Lynn', 'Miao, Chao', 'Crissman, Erin S', 'England, Richard K.', 'Gilheany, Eileen P', 'Israel, Nathan Joseph', 'Barry Jr, James P', 'Gudelunas, William A', 'Fitzgerald, Evan', 'Wood, Warren C.', 'Angstadt, Frances V', 'Gauger, Michael A', 'Lamey, Thomas W', 'Kanarr, David M.', 'Gunes, Itir', 'Williams, Alisha M', 'Gurlly, Aaron W', 'Wise, Jason Laird', 'Grear, Teresa', 'Losonczy-Marshall, Marta E.', 'Park, Minseok', 'Bryan, Cathy Jo', 'Burkett, Katie Lynn', 'Campbell, Carlene Lynn', 'Kellersohn, Keith B.', 'Disbennett Jr, Robert W.', 'Knight, Margaret J.', 'Shivers, George', 'Smith, Robert', 'Boster, Charles R', 'Swift, Leslie White', 'Kelly, Megan S', 'Counts, Clement L', 'Bristow, Devon Rose', 'Ragan, Elizabeth A.', 'Elliott, Kathy June', 'Schermerhorn, Jennifer L', 'Drabick, Justin M', 'Stephenson, Jill A.', 'Sen, Argha', 'Kyriacopoulos, Konstantine A', 'Matthews, Brittany Drewer', 'Tyndall, Chelsea Nicole', 'Ali Moustafa, Amal K.', 'Madison, Emily Baldwin', 'West, Jessie S', 'Hammerer, Kristen Marie', 'Bradford, Randy L.', 'Wright, Kathleen M.', 'Ingoglia, Anthony V', 'Von Den Bosch, Nicole Martine', 'Dewald, Alison H', 'Kasven, Stefanie R', 'Forsythe, Kelly Durham', 'Hatch Pokhrel, Lauren Lee', 'Kutchen, John E', 'Reb, Maureen Courtney', 'Nelson, Paula F.', 'Smullen, Vanessa S', 'Oneal-Self, Amy E.', 'Moazzam, Mohammad', 'Malone, Kevin C.', 'Terrill, Brandy J.', 'Baskerville, Andrew Thomas', 'Wood, Carol A.', 'Schiff, Marcelle S', 'Brower, Keith H.', 'Miller, Connie L', 'Fletcher, Michelle Nicole', 'Bardzell, Michael J.', 'Clark-Andrejkovics, Amanda J', 'Lutz, Marie C', 'Malament, Cynthia B', 'Robinson, Leonard C.', 'Walker, Elsie M', 'Underwood, Jennifer D', 'Bolton, Joshua P', 'English, Christopher W', 'Hughes, Leslie', 'Sessoms, Chalarra A', 'Nam, Taehyun', 'Derrick, Patricia L.', 'Dwyer, Linda E', 'Roser, James Stephen', 'Wright, James Lonnie', 'Johnson, Jennifer Hoi Yin', 'Shuhy, David E.', 'Carlson, Kristin L.', 'Laws, Alexis Rachel', 'Poddar, Amit', 'Castelow, Hannah Elizabeth', 'Parsons, Catrice L', 'Lanious, Patricia E', 'Hoffman, Adam H.', 'Song, Hongzhuan', 'Foutz, Brittany Lee', 'Stratton, Casey M', 'Sturgis, Jaclyn K', 'Agarwal, Vinita', 'Shetty, Shekar T.', 'Smith, Betty Lou', 'Johnson, Aaron C', 'Malkus, Milton M', 'Han, Eun-Jeong', 'West, Laura L', 'Urban, Molly B', 'Smith, Rachel N', 'DiBartolo, Gerard R.', 'Spickler, Donald E.', 'Adams, Roberta A.', 'Acton, Robin Lilley', 'Parker, Janelle Ingrid', 'Dyer, Nikki Allen', 'Bugdal, Melissa Elizabeth', 'Hamill, Thomas Joseph', 'Byrne, Katherine Marie', 'Sporer, Ryan A', 'Dobos, Lilia Caroline', 'Nanez, Martin Audelo', \"Daniels, Maria La'Trice\", 'Wesolowski, Sarah C', 'Klug, Robert', 'Smith, Kenneth J.', 'McNabb, Morgan L', 'Nein, Matthew Ammon', 'Hurley, Deanne Lauren', 'Lewis, Lindy Ladd', 'Holdai, Veera', 'Kotlowski, Dean J.', 'Marasco, Laura L.', 'Hartman, Nathaniel Thomas', 'Lovelace, Kaitlin Marie', 'Neville, Barry P.', 'Perry, Melissa Kaye', 'Monico, Evgeniya Y', 'Laird, Krispen Louise', 'Acocella, Cecilia M.', 'Monroe, Lauren Nicole', 'Waldron, Mia King', 'Fitzgerald, Kevin M', 'Kishen, Aarti', 'Upshaw, Mary-Tyler Embrey', 'Junkin, Vanessa Dawn', 'Gray, Latrice Kiane', 'Sum, Vichet', 'Smith, Diane June', 'Carayon, Celine', 'McFarland, Marie Anne', 'Ferger-Hill, Robin Lynn', 'Jones, Catherine Jane', 'Ettinger, Thomas J', 'Osman, Suzanne L.', 'Southerland III, Wallace', 'Arvi, Leonard', 'Sacco, Francesco G', 'Oby Jr, Stephen J', 'Oleszewski, Ashley M', 'Short, Brenda Figgs', 'Weber, David P', 'Schoyen, Jeffrey G.', 'Leonel Jr, Ronei', 'Simmons, Teresa Fields', 'Yonker, Shawn R', 'Weldon, William W', 'Morris, Paula T.', 'Dockins-Mills, Lawanda', 'DoDoo, Soraya Laaouad', 'Messner, Jacqueline Rose', 'Barse, Ann M.', 'Soule, Jessica L', 'Ference, Gregory C.', 'McNeil, Ashley Rae', 'Lewis, Ann C.', 'Hirko, Daniel Martin', 'Mead, Terry M', 'Stitcher, Thomas P.', 'Norman, Matthew James', 'Rouse, Kelley J', 'Burt, Jane B', 'Malone, Ruth Frances', 'Laird, Johanna W.', 'Schreibman, Janice Suzette', 'Colonna, C. Ann', 'Pepper, Jennifer Lynne', 'Endicott, Seth Andrew', 'Becker, Larence', 'McCarty, Susan M', 'Yarmo, Leslie T.', 'Tribull, Douglas F', 'Truitt, Debra L.', 'Gill, Kathryn Estelle', 'Gilkey, Theodore R.', 'Oh-Howard, Jeongju G', 'Daugherty-Ball, Debra Blair', 'Bowen, Brianna Ebony', 'Grudis, Suzanne Parker', 'Flores, Brian M', 'Johnson, Karin E.', 'Morrison, Jody D.', 'Schlehofer Copper, Michele M', 'Schloemer, Deanna Lea', 'Munday, Nicole M.', 'Jesien, Roman V.', 'Craddock, Christine Lee', 'Vassallo-Oby, Christine Frances', 'Munasinghe, Kumudini A', 'Fielder, Erica Zoe', 'Harvey, Kellie Anne', 'Elder-Correa, Alaina Jane', 'Rodriguez, Josefina Esther', 'Jacobs, Richard J', 'Juncosa Jr, Jose I', 'Franzak, Judith K', 'Adams, Stephen B.', 'Jones, Kasey Chandler', 'Chen, Xuan', 'Ginnavan, Amy Pauline', 'Greenwood, Tina M.', 'Shockley, Beth Ellen', 'Shakur, Asif M.', 'Kulavuz-Onal, Derya', 'Hohman, Tyler James', 'Hahn, Kristen Deanne', 'Padgett, Stephen M', 'Hannon, Claudia A.', 'Anderson, Louise L', 'Kingan, Michael J', 'Mason, Elisabeth Raquel', 'Kim, Jinchul', 'Warfield, Bradley Scott', 'Richards, Patricia O.', 'Dalrymple, Deborah K', 'Fadl Alla, Tegwa', 'Conrath, Ryan C', 'Delauter, Adam Karl', 'Samis, Gail Marie Johnston', 'Leibu, Beth Louise', 'Truong, Hoai-An', 'Schultes, Carla N', 'Burneston, Kristin Lynn', 'Muller, Susan M.', 'Hatley, James D.', 'Stiegler, Brian N.', 'Hall, Shane D', 'Decker, Wayne H.', 'Quillin, Kimberly Johnson', 'Lombardo, Cynthia M.', 'Burns, David Paul', 'Nash, Naomi Ruth', 'Harlin, Margaret Mary', 'Manns, Theresa A', 'May Jr, Everette L', 'Satterfield, Danny E', 'Melczarek, Arnold N', 'Campbell, Robert S.', 'Li, Ning', 'Tolley, Leslie Ann', 'Goyens, Tom', 'Duval, Marion S', 'Callaghan, Renee Garcia', 'Scott, Samantha L', 'Patterson, Meredith M.', 'Johnson, Lindsay Nicole', 'Waggoner, Kyle Michael', 'Hetzler, Steven M.', 'Porter-Long, Caroline T', 'Geraldes, Heather April', 'Ginta Martin, Alexandra Florina', 'Skeeter, Brent R.', 'Donoway, Jennifer Gordy', 'Prievo, Holly M', 'Pretl, Michael A', 'Barahouei Pasandi, Faezeh', 'Verzi, Diane W', 'Jones, Sarah Alexandra', 'Rieck, David F.', 'Donoway, Keith Allwin', 'Scott, Michael S.', 'Kottemann, Jeffrey E.', 'Gootee-Ash, Amy L', 'Kubina, Mackensey K', 'Woodward, Lisa Ann', 'Hwang, Jee Hyun', 'Ackerson, Kenneth Wayne', 'Kelly, Clare Kathleen', 'Jones, Amy Markley', 'Jones, Susan Margaret', 'Phillips, Scott P', 'Johnson, Malkia Lashan Brown', 'LeBaron, David N.', 'Nan, Wenxiu', 'Johnson, Robert A.', 'Gabbard, Theresa Tovornik', 'Patel, Shruti A', 'Williams-Crawford, Frances H', 'Palakanis, Kerry C', 'Felix, Alexis Faye', 'Darnell, Lynnette', 'Baker, Robert A', 'Persad-Clem, Reema A', 'Burgasser, Connor Langan', 'Planes, Cyril', 'Panjwani, Narendra K', 'Rommel, Luke A', 'Young, Jacey Megan', 'Calafiura, Marie B', 'Cho, Hajin', 'Beise, Catherine M.', 'Cabrera, Katelynn C', 'Leonard, Steven Edward', 'Carlander, Jay R.', 'Yingling, Craig Douglas', 'Weer, Christy H.', 'Penuel, John Sherwood', 'Wiersberg, Gerrie Lynn', 'Sage, Marisa I', 'Zhang, Yinghao', 'Chambers, Silvana S', 'Gering Jr, George W', 'Suk, Andrea L', 'Weaver, Ryan V', 'Trantin, Kathryn Marie', 'Austin, Homer W.', 'Pollock, Barbara J.', 'Trenary, Shelby Elizabeth', 'Kew, Claire F.', 'Pappas Jr, Allan', 'Giska, Alison Lin', 'Simulis, Anna M', 'Thomas, Melissa D.', 'Habashy, Noel B', 'King, Carolyne Marie', 'Dreany-Pyles, Laura C.', 'de Socio, Mark J', 'Walsh, Catherine M.', 'Erdie, Paula Martin', 'Winter, Dorothea M', 'Mosman, Nicole R', 'Chillingworth-Shaffer, Anne', 'Long, Robert P.', 'Bergner, Jennifer Anne', 'Scahill, Andrew D', 'Kim, Koomi J', 'Losoya, Joshua David', 'Harrison, Nicole Elizabeth', 'Carter, Carolyn M', 'Kimlel, Lauren M', 'Morris, Morgan D', 'Dean, Brian J.', 'Brotman, Gary B', 'Miriel, Victor A.', 'Biscoe, Melanie Ann', 'Younker, Jennifer M', 'Bruce, Sean M', 'Phillips, David S', 'Garcia Luque, Silvia', 'Lipka, Pamela', 'Garcia, Mark J', 'Johnson, Jennifer Mills', 'Workman, Rachael Marie', 'Snavely, Susan L', 'Kraemer, Laura Davis', 'Frana, Mark F', 'Cashman, Kristin Lee', 'Howard, Stephanie Erin', 'Dover, Howard F.', 'Villalobos Fiatt, Laura', 'Ananou, Teko S', 'Cohey, Maribeth Lorraine', 'Lebel, Phillip G.', 'Cowall, Cynthia C.', 'Nichols, Edward Yancey', 'Layton, C. Rodney', 'McKay, Meghan E.', 'Zak, William F', 'Cox, Jennifer B', 'Chaudhry, Vishal', 'Harrington, Gary M.', 'Krisulevicz, Ronald J', 'Stribling, Judith M.', 'Mirarchi, Sarah L.', 'Gilmore, Jordan A', 'Groth, Randall E.', 'Melstrom, Tina M', 'Murray, Laura', 'Krempel, Lee Michael', 'Belloso, Leslie M', 'Erickson, Patti T', 'Sodhi, Mininder K', 'Ralph, Gary D', 'Jaspers, Lea H', 'Gittelman, Julie E', 'Jansson, Sarah', 'Collins, Khalilah V.', 'Peng, Yuqi', 'Camillo, Michael William', 'Tremaine, Marianne G', 'Cammarano, Cristina', 'Keenan, Anastacia J', 'Dunn, Timothy J.', 'Elburn, Sara J.', 'Chappell, Charisse D.', 'Gibbons, Jenna', 'Fleischer, Priscilla R', 'Turner, Anne Cheryl', 'Howie, John K', 'Colon, Jonathan', 'Garfield, Lisa E', 'Madden, Joshua E', 'Wills, Jennifer H.', 'Hall, Rhonda Michele', 'Ubi, Jaan', 'Lebbie, Sahr Momaqua', 'Cumming, Danielle M.', 'Mero, Kendra Dawn', 'Berkman, James J.', 'Dugan, Marissa K', 'Corfield, Jeremy', 'Paskova-Anderson, Lyubov A', 'Keifer, David Z', 'Desper, Jason M', 'Thompson, Andrew Wade', 'McInerney, Jessica', 'Anderson, Joseph T', 'Hickman, John N.', 'Yesiltas, Chandra L', 'Eutsler, Madysen Marie', 'Berezowski, Brooke Ann', 'Farlow, Michael William', 'Brooks, LaToya', 'Pandey, Anjali', 'Ramey, Cathy Marie Watson', 'Murasugi, Sachiho C', 'Farr, Ashley Suzanne', 'Stull, Eric Stephen', 'Bivens, Gaylena Addie', 'Goldstein, Arthur G', 'Sabzi, Hadis', 'Zellers, Dana Bethsabe', 'Clarke, James C', 'Genvert, Margaret Fisk', 'Thomas, Christopher Lamont', 'Proudfoot McGuire, Peggy J.', 'Benato, Chiara Elena', 'Noble, Megan Kolby', 'Horton, Thomas W', 'Taylor, Susannah W', 'Chen, Chin-Hsiu', 'Goode, Jeffrey H.', 'Basko, Aaron M', 'Morrison-Parker, Claudia', 'Bernhard, Stephanie R', 'Silaphone, Keota S.', 'Scovell, Paul E.', 'Bowers, Natalie P', 'Beteck, Rose N', 'Dudley-Eshbach, Janet E.', 'Anderson, Thomas E', 'Bernier, Lindsey R', 'Parsons, Mary T.', 'Rangel, Adriana G', 'McElroy, Honor Braden', 'Longer, David', 'Thompson, Melissa M', 'Overholt, Charles M', 'Kowalski, Luanne L', 'Gibson, Abby S', 'Hollis, Matthew J', 'Fafoutis, Dean J.', 'Fleekop, Matthew Joseph', \"O'Loughlin, Michael G\", 'Young, Brian K', 'Park, Sang-Eon', 'Guckes, Kirsten Raquel', 'Bouchelle, Jamie L', 'Tabor, Nancy R', 'Krebs, Stacey Elizabeth', 'Nagel, William J.', 'Hill, Marjorie R', 'Buss, James J', 'Zockoll Jr, Brian Mark', 'Franco, Megan G.', 'Holland, Mark A.', 'Ivey, Raymond', 'Hoffman Jr, Robin Jay', 'Givans, Sylvia A', 'Goodman, Gary Cornelius', 'Wilkin, Claire Gabrielle', 'Jarosinski, Judith M.', 'Logan, April C', 'Engelman, David Robert', 'Cashman, Burton Roger', 'Crane, Sherry', 'Emmert, Elizabeth A. B.', 'Goodwin III, William V', 'Mills, Jeanne T', 'Poe, Jennifer M', 'Carstens, James F.', 'Wenke, John P.', 'Trice, Kathryn Carol', 'McCabe, Tiffany Michelle', 'Hua, Jennifer', 'Stewart, Margaret A', 'Rogers, Susan', 'Morris, Lorna N', 'Arban, Kathleen S', 'Vazquez, Gerardo A', 'Carr-Phebus, Alissa A', 'Ebert, John Malcolm', 'Carpenter, Eric J.', 'Bunting, David Orlando', 'Bown, Carolina D.', 'Cyryca, Paul Anton', 'Hill, James K.', 'Kolahdouzipour, Aysan', 'Sokoloski, Joshua E', 'Vennos, Amy Demetra-Geae', 'Twilley, Brian', 'Fineran, MaryLouise M', 'Mohammadioun, Jamshyd', 'Schneider, Gustavo', 'Van Dyke, Debra J', 'Matthews, Meghan Aileen', 'Naleppa, Margaret M', 'Joyner, Lisa R.', 'Jackson, Catherine Ann', 'Parthum, Bryan M.', 'Siers Jr, Ronnie R.', 'Gregory Jr, James E.', 'Campbell, William T.', 'Barrett, George D', 'Charlton, Michael James', 'Gang, KwangWook', 'Bunting, Jaime R', 'Murphy, John P', 'Goldberg, Rachel M', 'Beardsley, Corinne R', 'Robinson, Timothy F.', 'Wilkens, Richard T', 'Miller, Elwood M', 'Crowell, Katherine', 'Willey, Amanda J', 'Cosgrove, Kristina Lindes', 'Miller, Timothy S.', 'Devine, Jane M', 'Vickers, Christina Lea', 'Ball, Marchan Rawlins', 'Wang, Xiaohong', 'LaManca, John J.', 'Gladden, David L.', 'MacDonald, Elisheva D', 'Cerda, Rodrigo Javier', 'Danieli, Raymond F', 'Beamer, Jennifer G', 'Sise, Michael J', 'Packey, Daniel Jack', 'Thomas Jr, Lynn Brinsfield', 'Bienstock, Arnold L', 'Larson, Rebecca S', 'Halowich, Joseph H', 'Wilson, Brittany Nicole', 'Hogg, Suzanne Elizabeth', 'Young, Shawn W', 'Root, David G.', 'Lopez, David F', 'Nutter, Kimberly M', 'Ostrom, Todd Michael', 'Robeck, Edward C.', 'Bowers, Venessa A', 'Whitcomb, Valerie J', 'Selway, Christie C', 'Bleil, Robert R.', \"Batson, Ra' Sheeda D\", 'Elphick, Keith John', 'Rasmussen, Victoria', 'Shea, Michael P', 'Rodriguez Vallejo, Rocio', 'Kunciw, Bohdan G', 'Moore, Christopher Taylor', 'Cranbury, Sarah E', 'Allen, Kimberly Dawn', 'Papke-Shields, Karen E.', 'Bronson, Adam P', 'Duong, Hong K', 'Mitchell, Diane K', 'Halperin, Alexander D', 'Birch, Kevin E.', 'Lowrie, Bridget M', 'Dronenburg, Kristina Marie', 'Byrd, Cynthia A', 'Murphy, Megan A', 'Devine, Michael C.', 'Witkofsky, Alfred A.', \"O'Keefe, Jessica M\", 'Anderton, Jeanne L', 'Boggio, Pamela J.', 'Bergonia, Aimee Suzanne', 'Suprunova, Anastassiya', 'MacSorley, Paige B.', 'Ortlip, Austin Tyler', 'Meekins, Amy S.', 'Carlos, Michael D', 'Wood, Bob G.', 'Poe, Preston D.', 'Erickson, Floyd L.', 'Haddock, Carey E', 'Binz, Steven M', 'Miller, Megan Carey', 'Cawthern, Thomas R', 'Drechsler, Terry Ann', 'Pryor, Michelle Renée', 'Barja Cuyutupa, Ethel Mylene', 'Adkins, Patricia A', 'Craig, Dylan Keith', 'Cristea, Haley J', 'Lelic, Emin', 'Wolff, William A', 'Pautz, Stefani Nicole', 'Royer, Regina D.', 'Houser, Linda Denise', 'McCarty, Heather R', 'Ludwick, Kurt E.', 'Quan, Jing', 'LaMade, Jennifer Cottle', 'Ritenour, Donna M', 'Willey, Vicki C', 'Luttrell Jr, Robert D.', 'Connery, Mary Cathrene', 'Mahn, Thomas E.', 'Surak, Sarah M', 'Lee, Kyung Min', 'Jimenez, Zulma Azucena', 'Parker, Chasta Louise', 'Ashton, Linsey Marie', 'French, Kara M', 'Chakraborty, Moushumi', 'Schaire, Harrison William', 'Holmes-Wiggins, Kimberly N', 'Houghtaling, Cynthia Ann', 'Slye, Natalie T.', 'Altunc, Arife B', 'Franchi, Giulia', 'Hargrove, Alex R', 'Pereboom, Maarten L.', 'Giudice, Shauneen', 'Jordan, Michell M', 'Kaul-Black, Mary E', 'Weaver, Starlin D.', 'James, Shannon Marie', 'McFadden, Jenny Lynn', 'Serrano Garcia, Jose V', 'Chown, Gregory A', 'Hinderer, Katherine A.', 'Davis-Hayes, Diane L', 'Wheeler, Stacy Lynn', 'Leasure, Thomas R', 'Tardiff, Robert M.', 'Norris, Daniel', 'Patt Jr, Gerald D.', 'Timmons, Katherine Grace', 'Smith, David S', 'Moore, Heidi Lynne', 'Ets, Hillevi K', 'Blackmon, Jonathan C', 'Cooper, Sean G', 'Harris, Timothy Blake', 'Kane, Mary K.', 'Anthony, Rebecca S', 'Kerrigan, Sandra Lehman', 'White, Iven E.', 'Campbell, Matthew J', 'Sayres, Mary L', 'Hesser, Phillip', 'Milner, Kenneth R.', 'Steele, Rachel R', 'Hopson, Natalie W.', 'Harper, Christina Bantz', 'White, Kylie M.', 'Culotta, Jordan Jeffrey', 'Lawler, Ellen M.', 'Lew, Chooi-Theng', 'Horsman, Phoebe W', 'Donovan, Joanne W', 'Bailey, Matthew A.', 'Detwiler, Louise A.', 'Bearman, Karen', 'Moore, James B', 'Cojoca, Ecaterina', 'Owens-King, Allessia P', 'Robinson, Kacie Lynn', 'Leroy, Lucie', 'Kock, Stacia L', \"O'Driscoll, Daniel P.\", 'Bracken, Michele I.', 'Prisco, Breanne Jennifer', 'Bressman, Noah R', 'Anderson, Averill Vernon', 'Whitt, Hunter Charles', 'Tovornik, Mary R', 'Mancuso, Martha Clare', 'Wright, Cadence Anne', 'White, Bryan K', 'Illgen, Katherine Marie', 'Olson, Sherryl K.', 'Webb, Kawana Laya', 'Nutt, Rita J.', 'Woodis, Lena A', 'Soto Ramirez, Nina', 'Manakyan, Herman', 'Pelot, Kimberly Gleason', 'Ferraro, Elaine Michelle', 'McCrobie, James N', 'Rittinger, Eric R', 'Lenox, John F', 'Gold, Jeffrey Derek', 'Micciche, Amanda Erin', 'Smith, Erin M', 'Barber, Robert', 'Yoon, David J', 'Willis, William Anthony Volney', 'Edwards, Victoria Venable', 'Alessandrini, Erica A.', 'Jones, Jerilisha L', 'LaCurts, Carvel Lee', 'Namwamba, Fulbert L', 'Morrow, Julie A', 'Shaup, Karen L', 'Tirab, Mohamed', 'Thompson, G Ray', 'Anderson, Laura E.', 'Heim, Sara S', 'Viggato, Vincent T', 'Charlton, Heather Giles', 'Randall, Kelli V.', 'Simmons, Haven P.', 'Bonsteel, Adriana C', 'Herrera Angel, Rafael', 'Briddell, April Shanell', 'Silva, Anne Marie', 'You, Soeun', 'Meenan, Kevin Patrick', 'Selzer, Christine M', 'Kiser, John W.', 'Bowles, Daniel A', 'Wellman, Brittany Taylor', 'Zimmerman, Katrina Leesa', 'Herwig, Stephen M.', 'Larrea, Edgar Luis', 'Pike, Judith E.', 'Werner, Timothy J', 'Norris, Gary J', 'Banks, Troy V.', 'Burton, James A', 'Berke, Andrew M', 'Truitt, Jami Lynn', 'Spillson, Christine A', 'Armstrong, Grady', 'Guerriero, Alexandra', 'Maier, Karl J', 'Kalb, John D.', 'Woodis, Adam L', 'Egan, Christine N.', 'Hellsten, Catherine Y', 'Perret, Arnaud P', 'Hall, Michael F', 'Stoner, Alexander M', 'Davis, Jeni R', 'Pennerman, Althea J.', 'Brown, Anita R.', 'Glanz, Julia Anne', 'Parker, David L.', 'Battistoni, Susan Boyer', 'Bloodworth, Gina', 'Sinclair, Leslie A', 'Badros, Karen Kathryn', 'Olson, Melissa Dawn', 'Jin, Xiwen', 'Kirsch, Robert E', 'Chism, Alison L.', 'Pica, Andrew J.', 'Diriker, Veronique', 'Feusahrens, Lauren Ross', 'Outten, Clara Louise', 'Cipolla, Charles E.', 'Goodberry, Benjamin Nathaniel', 'Marquette, Lisa M', 'Walter, Jessica Marie', 'Cashman, Gregory E.', 'David, Satjajit Samuel', 'Tignor, William Charles', 'Illig, Diane S.', 'Suber, Jordan C', 'Jones, Katherine Louise', 'Canfora, Susan A', 'Ortega, Leticia E.', 'Harr, Christopher T', 'Hellane, Sally A', 'Bunting, Jocelyn C', 'Megargee, Mary Kathryn', 'Cha, Hoon S.', 'Ewers, Charles J', 'Jester, Wanda J', 'Thompson, Klaudia M.', 'Forte, Natalie T', 'Hudson, Donna', 'Ford, Rhonda Lee', 'Record, Raffaela N', 'Horsey, Allison Burdo', 'Good-Malloy, Nicholas', 'Moore, Stephanie C', 'Venso, Elichia A.', 'Silverstrim, Karen F.', 'Martin, Heather Lynn', 'Heimann, Jessica E', 'Pfeiffer, Thomas P', 'Perkins, Wanda S.', 'McGorry, Bernard F.', 'Brown, Paula Danielle', 'Schnitzer, Dorothy Claire', 'Tomanek, Veronica M', 'Briand, Christopher H.', 'Otto, Catherine N', 'Melstrom, Richard T', 'Curtin, Jason Ernest', 'Weisgerber, Amanda Leigh', 'King, Patricia K', 'Sutton, Sherry R', 'Wang, Shuangquan', 'Tabor, Jerry N.', 'Gunther, Mary Roman', 'Kendall, Frances L.', 'Munemo, Jonathan', 'Walstrum, Amy Lynn', 'Ringle, Tony W', 'Clement, Grace A.', 'Hall, Renee Richardson', 'Curtis, William J', 'Olszewski, Pamela J.', 'Tate, Stacie L', 'Cassels, Angela Pantinella', 'Folger, William M.', 'Willis, Aaron C', 'Endicott Jr, Russell C.', 'Rice, Philip Thomas', 'Ozoke, Vitus A.', 'Cashio, Victoria K', 'Oldson, James D.', 'Mears, Jennette Altvater', 'McCartney, Jason S.', 'Fagan, Kathleen H', 'Maners, Jamie L', 'Furman, Seth M', 'Parnell, Janique L', 'Fritz, Aaron Matthew', 'Gorrow, Teena R.', 'Cottingham, Carl L', 'Thompson, Gregory', 'Austin, Jathan W', 'Moriarty, Thomas A.', 'Alves, Helena Lucas', 'Carter, Edward Davis', 'Shufelt, Catherine Armetta', 'Jorden, Brenda J', 'Wiencek, Barbara J', 'Solano, Gina L', 'Lipka, Matthew J', 'Thaqi, Vendim', 'Dunn, Alison Michele', 'McCarty, Michael B', 'Gibb, Paula Ruark', 'Saltzberg, Matthew A', 'Cathcart, Donald C', 'Pope, Michelle Renee', 'Nolan, Margo Joyce', \"Sha'ar, Ahmad A\", 'Brown, Sedonna M', 'Hines, Daniel Joseph', 'Brower, Lori Ann', 'Taylor, Ryan C.', 'Bullock, Emily Klein', 'Clark, Jessica K', 'Habeger, Amy Diane', 'Easterling, Debbie S.', 'Mapp, Charisse M.', 'Buzard, Lindsey Rachel', 'Hart, Jennifer A', 'Cooper, Sue A', 'Rogers, Travis Paul', 'Webb, Cynthia Marie', 'Fanjoy, Keith R', 'Day, Jacob Randall', 'Schneider, Lisa M', 'Nobiling, Brandye D.', 'Johnson, Kenneth Albert', 'Schneider, Traci Bozman', 'Rogers, William Brooke', 'Andes, Laurie A.', 'Ransom, Tami S', 'McEntee, Shawn', 'Chen, Yi-Ju', 'Settle, Robert B.', 'Garlock, Marc Richard', 'Berry, Robert Alan', 'Stoner, Melissa A', 'Wilson, Cassandra Elaine', 'DeWitt, Douglas M.', 'Petrolino, Ashley V', 'Bennett, Tom Richard', 'Teller, Kyle G', 'Bradford, Randy Lee', 'Deysher, Ryan Michael', 'Kim, Sook Hyun', 'Mahmood, Sehba', 'Mathias, Keith Wayne', 'Bishop, Nicole Roxanne', 'Shives, Amy Lynn', 'Harris, Daniel W.', 'Ritchey, Kenneth James', 'Webber, Michael Allan', 'Van Aken, Rebecca Elizabeth', 'Williamson, Thea C', 'Campbell-Hanson, Trisha N', 'Finch, Maida A', 'Hipszer, Amanda M', 'Campbell, Rita G', 'Royer, Jeffrey A', 'Maddux, Lindsay Elizabeth', 'Brown, Voncelia S.', 'Welch-Hamill, Amanda Sue', 'Kiefer, Stephanie Ellen', 'Brown, Niya R.', 'Wolinski, John T.', 'Reid, Tina P', 'Mukhopadhyay, Aparajita', \"Vila', Joaquin S.\", 'Arenella, Laura Anne', 'Carson, Christopher Dean', 'Silliman, Jennifer L', 'East, Meghan S', 'Sroka, Matthew', 'Karimzad Sharifi, Farzad', 'Heimdal, Justina N', 'Jung, Kyoung Rae', 'Venosa, Joseph L', 'Price, Eric M', 'Williams, Tracey L.', 'Reynolds, Leah M', 'Felizzi, Marc V', 'Robinson, Yolanda M', 'Park, Susan E', 'Gilbert, Kristin N', 'Case, Sarah H.', 'Williams, Natasha M', 'Newton, Darrell M.', 'DeCock, Paul C', 'Rising, Lynn T.', 'Whall, Raymond A.', 'Holloway, Susanne A', 'Brahosky, Adam C', 'Cross, Jessica E', 'Mathers, Ani M', 'Meehan, Mattie R', 'Strittmatter, Dennis A', 'Vazquez Diaz, Ricardo', 'Diehl, Heather S', 'Abresch, Bruce Anthony', 'Huston, Sharon P.', 'Ruffo, Nicholas S', 'Folkoff, Michael E.', 'Pass, Victoria R', 'Gambini de Secondi, Vanina', 'Hall, Logan Miller', 'Smith, Nancy Marie', 'Bodley, Dana', 'Taylor-Thoma, Marcie', 'McGee, Pamela Linda', 'Doyle, Melissa S', 'Madachik, Mark Robert', 'Rees, Jon M', 'Guillemart, Nancy Crabson', 'Bulka, Yuriy', 'Bell, Joyce A.', 'Obeng, Efua B', 'De Fino, Dean', 'Basham, Viktoria Valerieva', 'Batts, Lori Landon', 'Miller, Katherine R.', 'Tomcho, Thomas J.', 'Masenior, Nicole F', 'Money, Jessica Paige', 'Bauer II, Keith W', 'McDowell, Reed D.', 'Hornstein, Anna Michele', 'Powers, Emma-Ann', 'Hill, Lauren R', 'Wheatley, Laura Marie', 'Sharma, Andrew', 'McKittrick, Jamie Lauren', 'Edwards, Jossolyn R.', 'Trout, Kristin G.', 'Ennis, Eleanor M', 'Garner, Robert M.', 'Koval, Michael R.', 'Hesen, James Robert', 'Benyish Jr, Joseph W', 'Gathagan, Bryan K', 'Senkbeil, Edward G.', 'Smith, Alison Jean', 'Avara, Mary V', 'Shipper, Frank M.', 'Ananou, Regine C', 'Flexner, Paul Q.', 'Shary, Timothy M', 'Welty, Phillip Warren', 'Hentschel, Sandy E', 'Ratti, Manav', 'Rittling, Nicole Angela', 'Richerson III, William R', 'Anderson, Matthew Lee', 'Jett, Monica K', 'Goblinger, Jean L', 'Hoffman, Robert', \"O'Sullivan, Shannon E.M.\", 'Mitra, Deeya', 'Follmer, Kayla B', 'Toonstra, Jenny L', 'Anderson, Philip D', 'Walter-Nusberger, Julian', 'Sammons, Jason Harry', 'Siegert, Nancy L', 'Metzger, Gayle Elizabeth', 'Hanley, Yvonne D', 'Holmes, Stephen M.', 'Hylton, Mary E', 'Wood, Cara L', 'Conder, Cory J', 'Buono, Alexia Jordan', 'Pope, Katherine C', 'Given, Kirby Mae', 'Camillo, Christina G', 'Street, Vera L.', 'Sterling, Amy M', 'Smith, Renee Ashley', 'Nelson, William A', 'Wainwright, Barbara A.', 'Leoutsakas, Dennis A.V.', 'Kang, Ellen K', 'Culler, Kirsten A', 'Nally, Elizabeth Anne', 'Martin, Joni Pittenger', 'Elzey Jr, Guy S.', 'Offen, Keith', 'Snee, Aric Donald', 'Hansen, Toran J', 'Singh, Nitya P', 'Lewis, Michael L.', 'Small, Clara L.', 'Larsen, Erik J', 'Hubbard, Jennifer M', 'Everhart, Sarah M', 'Chambers, Dustin L.', 'Cai, Jiacheng', 'Echols, Brittany Ayanna', 'Nolte, Sharon E.', 'Chaikel, Joseph', 'Lee, Yerin', 'Phillips, Ashley Nicole', 'Merkel, Joshua Anthony', 'Lucas, Timothy D', 'Adams, Geralyn M', 'Anderson, Katelin Elizabeth', 'Kushner, Margo A.', 'Boroughs, Jon J', 'Danderson, Mark L', 'Scheid, David T', 'Busko, Nicholas', 'Rue, Constance', 'Forte, James A.', 'Timmons, John Adam', 'Keeton, Thomas George', 'Michalski, Jeremy B', 'Salimian, Fatollah', \"O'Neal, Elaine Marie\", 'Gladden, Tara C', 'Marzocchi, Jaime Michel', 'Ellis, William C', 'Jones, Shauna-Kaye Olivia', 'Lee, Misuk', 'Kellerman, Shelby M', 'Corrigan, Matthew J.', 'Insley III, Carlton R', 'Gostomski, Alaina Marie Macdonald', 'Jenne, Joel T.', 'Hughes, Peggy A', 'Talbert, Bart R', 'Bievenour, Michael George', 'Biasotto, Marylou F', 'Wenke, Joseph Hughes', 'Grande, Christopher Michael', 'Martin, John W', 'Shakley, Sherri-Lynn', 'Mazzetti, Heather Morea', 'Ervin, Danny M.', 'Hammond, Walter D.', 'Engberg, Kathryn Ann', 'Zlabek, Katherine M', 'Champagne, Carole A.', 'DiBartolo, Mary C.', 'Price, Dana Leigh', 'Bowden, Derek Thomas', 'Long-White, Deneen N', 'La Chance Jr, Robert Michael', 'Kearney-Edwards, Katina B', 'Kiernan, Kathleen', 'Evans, Timothy V', 'Foster, Joseph K', 'Kim, Yun-Kyoung', 'Miller, Brian K', 'Kaylor, James Richard', 'Carmack, Lori A', 'Howard, Tiffany', \"O'Donnell, James Joseph\", 'Holt, Susan M', 'Randall, Susannah Marie', 'Hawbaker, Beth L', 'Koko, Jacques L.', 'Fiala, Kelly A.', 'Weir, Adam W', 'Warner-Chaibou, Keoshia Danielle', 'Choi, Yoojin', 'Birch, Sharon McMahon', 'Lei, Shan', 'Johnson, David T', 'Betterton, Erika', 'Imirie, Olivia Nicole', 'Hogue, Aaron S.', 'Gehnrich, Stephen C.', 'Deminne, Kevin Francis', 'Dotterer, Ronald L.', 'Arvi, Marie S', 'Reid, Melissa Moore', 'Borden, Lizzette Melisa Aristizabal', 'Kolstoe, Sonja H', 'Bergo, Conrad H', 'Jester, Otto Frederick', 'Hoenigmann-Lion, Natalia M.', 'Searcey, Marilyn Gail', 'Wight, Charles A', 'Friese, Seth J.', 'Genareo, Vincent R', 'Youmans, Daniel Charles', 'Bing, John R.', 'Peterson, Dean A.', 'Henry, Candace N', 'Wynkoop, Sean Gregory', 'Berns, Chelsea M', 'deWitt, Wallace', 'Harrington, Aliscia Dawn', 'DeWitt, Lori J.', 'Parnell, Darren B.', 'Boudreau, Thomas E.', 'Waters, Amy Hollis', 'Summers, George F.', 'Townsend, Zachary Michael', 'Morgoch, Meredith', 'Ireland, Holly', 'Premo-Hurt, Joran Premo', 'Massey, Kevin Dale', 'Pasirayi, Simbarashe', 'Dorman, Mary Amber', 'Towle, Beth A', 'Hunter, Richard B.', 'Corn, Jennifer Helen', 'Hade, Eden Terry', 'Madden, Meredith J', 'Silver, Patrice Marie', 'Leaver, Echo E', 'Okubo, Yuki', 'Bowden, Kara Lewis', 'Boog, Melissa M.', 'Fabian, Chelsea Nicole', 'Liston, Jennifer M', 'Grecay, Paul A.', 'Chen, Xingzhi Mara', 'Hyman, Batya', 'Keen, Charles', 'King, James S.', 'Emmert, Jeffrey W.', 'De Ridder, Jerome J', 'Christensen, Pearl H', 'Jack, Carlotta Gray', 'Jenkins, Ginger A', 'Baker, Ali Elizabeth', 'Kane, Francis I.', 'Gibbs, Lincoln A', 'Wu, Ying', 'Miller, Heather Rose', 'Wallace, David S.', 'Tuske, Joerg P', 'Ravizza, Dean M.', 'Whitehead, George I.', 'Thamert, Amy Nicole', 'Pahl, Jennifer Anne', 'Berg Jr, R Clifford', 'Waddy, Angela M', 'Perez, Brian', 'Payne, Cynthia Ann', 'Quintana Wulf, Isabel', 'Horikami, Bryan K.', 'Howard, Joseph W.', 'Daly, Elizabeth Susanne', 'Raley, John L', 'Zaprowski, Brent J.', 'Newman, Stacey Virginia', 'Sullivan, Breck Maura', 'Morrison, Eddy', 'Keyser, Bethany J', 'Murphy, Janice', 'Johnson, Katherine Joanne', 'Roche, Olivier P.', 'Fahey, R. Sean', 'Arausa, Christopher Jefford', 'Hurley, Timothy R.', 'Hahn, Eugene D.', 'Durow, Steven L', 'Lattimore, Somiah M', 'Nibblett, Nancy Taylor', 'Goldberg, Martin D', 'Bivens, Bruce T', 'Cottman, Tracey Meshelle', 'Eagle, Harlan A.', 'Pope IV, Alexander', 'Howard, Julia Wright', 'Gasior, Paul L', 'Kilian, Lisa M', 'Burke Jr, William P.', 'Riley, Cindy L', 'Liswell, Mary', 'Holmes-Kriger, Jamie Lynn', 'Willey, Jessie Ellen', 'Chandrashekar, Sumathy X.', 'McComb, Ellis Wellington', 'Eksi Linderkamp, Ayse Asli', 'Young, Kevin', 'Hartman, Laura Elizabeth', 'James, Katherine Elaine', 'Chopra, Sehmina Jaffer', 'Hindman, Jessica Anne', 'Gonzalez, Aston A', 'English, Helene D', 'Mister, Brenda J.', 'Holmes, John Matthew', 'Wessel, Michael J', 'Catlin, Amanda Susan', 'Bonsteel, Jennifer Marie', 'Dean, Patricia K.', 'Hedlesky, Michael R', 'Cox, Jeremy G', 'Schiavone, Aubrey Vera Joan', 'Jones, Thomas W.', 'Meyer, Amber L', 'Curtin, Katherine M', 'Bemis, Rhyannon H', 'Headrick, Matthew Dennis', 'Caballero, Guillermo A', 'Gilkey, Mary Ann', 'Tabb, Christopher W', 'Calo, Thomas J', 'Tossey, Lisa Danielle', 'Cao, Wen', 'LaChance, Haleigh N', 'Reyes Jacobo, Edgar E', 'Karten, Karen Joy', 'Guevara, Jacqueline J', 'Boso, Christian Makafui', 'Merrick, Lutisia Jeanene', 'Patterson, Michael C', 'Morrison, Robert L', 'Nieves, John A', 'Martin, Sara R', 'Berry, Dagmar', 'Hill, Brian C.', 'Ebanks, Davin K', 'Burrows-McElwain, Cicely Kenda', 'McCabe, Douglas W', 'Gibson, Noah McGarrity', 'Kantzes, Robert', 'Morgan, Brian Andrew', 'Kruglinski, Jennifer M', 'McCabe, Karen L', 'Dean, Mimi F', 'Emerson, Jamie D.', 'Winchell, Katharine A', 'Engle, Lori R', 'Basehart, H Harry', 'Gutberlet Jr, Ronald L.', 'Tu, Junyi', 'Lin, Wei-Ting', 'Mazzetti, Scott A.', 'Mosher, John C', 'Sommer, Kylie Renee', 'Gilchrest, Wayne T', 'Price, Tonya A', 'Beegle, Gwen P.', 'Myers, Helen M', 'Geleta, Samuel B.', 'Park, Ki Ho', 'Creese, Charlene Matthews', 'Mitchell-Ebert, Nancy', 'Ballard, Adrian John', 'McGlone-Smith, Morgan Elizabeth', 'Shannon-Ramsey, Vivian R.', 'Paik, Seung Joon', 'Conners, Keith J.', 'Khazeh, Khashayar', 'Sessoms, Diallo D.', 'Deal, Aaron Darnell', 'Saunders, Jennifer Alden', 'Catron, Arielle Genevieve', 'Stutelberg, Erin B', 'Hill, Amanda Gail', 'Wilson, Logan Alexander', 'Hamilton, Stuart E', 'Hatton, Holly D', 'Knier, Lawrence E', 'Rexrode, Tiffany L', 'Shuster, Eric T', 'Young, Peter Ivan', 'Rigsby, Marcia E', 'Trolio, David P', 'Ehrhardt, Ursula M.', 'Twigg, Claire Louise', 'Mallow, Suzanna Lynette', 'Poore, Alesha R', 'Lutz, Melissa Faith', 'Robbins, Elbert M', 'Kyereme, Kofi', 'Anderson, Ellen J', 'Perret, Sally A', 'England, Charlotte P', 'Greenwood, Elena Rose', 'Walls, Tasha Renee', 'Kauffman, Elizabeth C', 'Emerson, David J', 'Rahimlabaf-Zadeh, Sanaz', 'Clark-Shaw, Kimberly D.', 'Seldomridge, Elizabeth A.', 'Siers, Stacie E', 'Boyer, Jefferson Parks', 'Jarrett, Brian N.', 'Troup, Nicholas W', 'Hatfield, Lindsey Marie', 'Cicero, Carrianne Marena', 'Flagg, Mary B', 'Brace, Andrea M', 'Van Vulpen, Kimberly Searcey', 'Cockey, Linda E.', 'Leffew, Erin Ashley', 'Seneviratne, Buddhakoralalage Leelange', 'Curtin, Elizabeth H.', 'Davis, Daniel Joseph', 'White, Katie Corbin', 'Whitney, Jeanne E.', 'Presotto, Andrea', 'Michaud, Matthew J', 'Thompsen, Pamala Dawn', 'Horvath, Todd M', 'Wagner, Diana Mae', 'Manizade, Kathrine F', 'Polkinghorn, Brian D.', 'Stanfield, Kellie P', 'Mahoney, Susan L', 'Freeman, Angela Rose', 'Stewart, Christina Marie', 'Stock, Timothy E.', 'Block, Megan Hopper', 'Street, Marc D.', 'Wood, Adam H.', 'Bond, Ernest L.', 'Nyland, Jennifer F', 'Davis, Daniel James', 'Mayhew, Heather Aubree', 'Crowley, Caitlyn Howard', 'McHenry, Patrick R', 'Willey, Jeffrey Allan', 'Cervantes, Mason', 'Barnes, Marita A', 'Cone, Randall E', 'Lee, John C', 'Muller, Mark W', 'McDermott, Edward Patrick', 'Gomez Roman, Alejandro', 'Cook, Brian Joseph', 'Michelson, Nancy L.', 'Shifler, Ryan Michael', 'Lycett, Kristen A', 'Lembo, Arthur J.', 'Nastvogel, LaShawn D', 'Mitchell, Miguel O.', 'Seth, Douglas', 'Ennis, Michele Lynn', 'Boone, Laverne M', 'McCombs, Alexandria G', 'Matthews, Heather Joy', 'Miller, Ryan Scott', 'Jones, Edward F.', 'Endicott, Kelsie', 'Farrow, Julia Thompson', 'Marshall, P Douglas', 'Owen, Gwendolyn Rachel', 'Webster, Debra A.', 'Long III, Creston S.', 'Karli, Matthew Todd', 'Keough, Gerard E.', 'Rockelli, Laurie Ann', 'Mitchell, Rhonda Marie', 'Tossey, Marvin G.', 'Sweadner, Stefany K', 'Carroll, Karen Morris', 'Habay, Stephen A.', 'Adeniran, Adeniyi Adeleke', 'Marinaro, Laura Marie', 'Milligan, Teena M', 'Clatterbuck, Jessica Paige', 'Schuldt, Michael A.', 'Johnson, Jennifer A', 'Cardillino, Theresa Ann', 'Johnston, Eric William', 'Valenti, Sherry Dutrow', 'Trenary, Melany C.', 'Marquez, Loren L.', 'McBrien, Robert J', 'Vilmar, Christopher S.', 'Johnson, Robert L.', 'Moeder, Michael D.', 'Root, Vicki J', 'Pica, Dorinda F', 'Makuchal, Penny Justice', 'Bratten, Sylvia Theresa', 'Bhuvanesh, Abhinesh', 'Fritz, Heidi L', 'McCray Jr, Jacquis Allen', 'Schaefer-Salins, Ellen', 'Lauterburg, Steven T', 'Carlisle, Gregory Jason', 'Chasse, Robert', 'Dziwenka, Ronald J', 'Pearl, Kendall Mayson', 'Douglas, Katherine Brooks', 'Song, Yujia', 'Dotson, Debra Ann', 'McGrath, Stacy Marie', 'Beckman, Pamela Joy', 'Blickle, Carl W', 'Passyn, Kirsten A.', 'Jones, James A.', 'Joyner, Robert L.', 'Shoop, Steven R', 'Romanowski, Autumn D', 'Ross, Michael C', 'Garmon, Lance C.', 'Arbona, Lourdes Tarin', 'Abel, Robert Frank', 'Fossell, Jennifer E', 'Halfpap, Randal B.', 'Diriker, Memo F.', 'Weber, Rachel Lynn', 'Tusing, Jennifer Leigh', 'Hilton, David N', 'Skeeter, Cheryl Strickler', 'Claggett Jr, Ellwood Tyler', 'Bowler, Richard C.', 'Billups, Marion Judith', 'Perreault, Melanie L.', 'Liebgold, Eric B', 'Daly, Terence F', 'Brightful, Erika Dar', 'Hall, Nicole Julienne', 'Roche, Oliver P.', 'Seth, Allison B', 'Robinson, Rashid V', 'Sullivan, Kyle G', 'Howard, Matthew A', 'Story, Emily F.', 'Castellano, Krystle Lynn', 'Ahlstrom, Christopher L', 'Garner, Robert Scott', 'McCracken, Angela Dawn', 'Howard, Emilee D', 'Reagin, Timothy Mitchell', \"Lelic', Emin\", 'Harper, Julia Nelson', 'Nina, Alketa', 'Kaiser, Kelly Lynn', 'Fedorko, Brent F', 'Schock, Melissa English', 'Burgess, Claudia R.', 'Wolfe, Ira S', 'Jing, Yaping', 'Adeogun, John Olufemi', 'Pautler, Charles P.', 'Canter, Miranda M', 'Gebel, Doris J', 'Hoffman IV, Richard C.', 'McAneny, Kathleen M', 'Fennell, Patrick B', 'Vogelsong, Candace Scott', 'Soosaipillai, Ignaciyas K', 'Lu, Enyue', 'Williams, Lauren A', 'Campbell, Jesse Alan'}\n"
     ]
    }
   ],
   "source": [
    "official_faculty_set: set[str] = set(official_professor_names_and_dept.keys())\n",
    "print(official_faculty_set)"
   ]
  },
  {
   "cell_type": "code",
   "execution_count": 7,
   "metadata": {},
   "outputs": [],
   "source": [
    "from My_Data_Classes import CategoryInfo\n",
    "import pickle\n",
    "def open_dict_pkl(file_path: str):\n",
    "    with open(file_path, 'rb') as f:\n",
    "        loaded_dict = pickle.load(f)\n",
    "    return loaded_dict"
   ]
  },
  {
   "cell_type": "code",
   "execution_count": 8,
   "metadata": {},
   "outputs": [],
   "source": [
    "cat_dict = open_dict_pkl('./category_dict.pkl')\n"
   ]
  },
  {
   "cell_type": "code",
   "execution_count": 9,
   "metadata": {},
   "outputs": [
    {
     "name": "stdout",
     "output_type": "stream",
     "text": [
      "{'Curry, Caitlin', 'Hamilton, Stu', 'Kim, Yun-Kyoung', 'Freeman, Angela R.', 'Bressman, Noah', 'Disbennett, Mackensie', 'Joyce, Ryan Patrick', 'Ramanathan, Gurupriya', 'Silaphone, Keota', 'Muller, Mark W.', 'Presotto, A.', 'Irons, Jonathan', 'Auerbach, Anna Jo J.', 'Revel, Cody B.', 'Porter, Heather', 'Freda, Kaynabess', 'Clark, Jessica', 'King, Carolyne M.', 'Karimzad, Farzad', 'Choi, Yoojin', 'Lei, Shan', 'Talbot, John', 'Nein, Matthew A.', 'Yao, Hong', 'Jeon, Kwonchan', 'Kolstoe, Sonja', 'Hogue, Aaron S.', 'Weer, Christy H.', 'Mitchell, Kaitlyn', 'Hensiek, Sarah', 'Brennan, Anna', 'Brannock-Cox, Jennifer', 'Lycett, Kristen A.', 'Maloof, Joan E.', 'Juncosa, Jose I.', 'Lanehart, Emily', 'Naing, Yadanar Than', 'Townsend, Zachary', 'Jauregui, Jean E.', 'Barnes, Annette', 'Friese, Seth J.', 'Chappell, Charisse', 'Cusic, Rachel M.', 'Small, Hannah G.', 'Boster, Charles R.', 'Pellinger, Thomas K.', 'Padgett, Stephen M.', 'Pasirayi, Simba', 'Chaves, Alec B.', 'Lane, Halle L.', 'Sargent, Sheridan', 'Rost-Nasshan, Aerin', 'Halperin, Alexander', 'Nalesnik, Allison', 'Moghaddam, Masoud', 'Walter, Mark I.', 'Marr, Alissa N.', 'Jermain, Madison', 'Venable, Victoria', 'Smith, Kenneth', 'Evans, Amanda S.', 'Petrolino, Ashley V.', 'Schneider, Sidney R.', 'Walsh, Catherine M.', 'Dolezar, Gina M.', 'Manchak, Randi', 'Barrett, G. Douglas', 'East, Meghan', 'Pike, Judith E.', 'Brady, Alyssa', 'Paco, Paola J.', 'Morningred, Connor', 'Seho-Ahiable, Gloria E.', 'Restein, Joseph', 'Pellinger, Thomas', 'Bachran, Karsin', 'Pasirayi, Simbarashe', 'Mazzetti, Scott', 'Comfort, Joshua', 'Eun, Jihyun', 'Phillips, Robert A.', 'Vennos, A.', 'Schwartz, Joseph', 'Quillin, Kim', 'Okubo, Yuki', 'Leaver, Echo', 'Stott, Mia', 'Stutelberg, Erin B.', 'Wesolowski, Sarah C.', 'Maykrantz, S. A.', 'Stoner, M.', 'Treuth, Margarita S.', 'Hoffman, Richard', 'Schneider, Lisa', 'Chen, Xingzhi Mara', 'Grecay, Paul A.', 'Chen, Mara', 'Eksi, Asli', 'Corfield, Jeremy R.', 'Habermeyer, Ryan', 'Price, Dana L.', 'Wu, Yun', 'Werner, Tim', 'Caviglia-Harris, Jill L.', 'Hamilton, Stuart', 'Morgan, Brian', 'Warfield, Rebecca', 'Wu, Ying', 'McCartney, Jason', 'Green, Daniel C.', 'Garcia, Mark J.', 'Ravizza, Dean M.', 'Tibbo, Morgan', 'Whitehead, George I.', 'Stribling, Judith M.', 'Kotlowski, Dean', 'Jung, Kyoung-Rae', 'Groth, Randall E.', 'Liebgold, Eric B.', 'Guarnera, Samantha R.', 'Coss, Derek A.', 'Hartlove, Nathan B.', 'Long-White, Deneen', 'Geleta, S. B.', 'Ennerfelt, Hannah', 'Cha, Hoon S.', 'Miller, Stephanie', 'Follmer, Kayla B.', 'Demond, Whitney', 'Richardson, Gwynne', 'Cave, Jason', 'Roose, Jordan J.', 'Roberts, Paige M.', 'Hawkins, Ashley E.', 'Walter, Jessica', 'Wathen, Bailee', 'Webster, Debra', 'Miller, Jenna', 'Peng, Yuqi', 'Grant, Alexa H.', 'Hahn, Eugene D.', 'Cammarano, Cristina', 'Fox, James T.', 'Short, Laura', 'Scanlon, Jaycee', 'Rosette, Demetri', 'Werner, Timothy', 'Clements, Paul', 'Kalita, Diane', 'Masteran, Conner J.', 'Duong, Hong', 'Austin, Jathan', 'Surak, Sarah', 'Briand, Christopher H.', 'Meister, Ben M.', 'Nan, Wenxiu (Vince)', 'Maier, Karl J.', 'Vicens, Belen', 'Hanley, Yvonne Downie', 'Miller, Jerome A.', 'Warman, Stephanie', 'Miao, Chao', 'Wang, Shuangquan', 'Shepherd, Meghan', 'Teller, Kyle G.', 'Munemo, Jonathan', 'Allen, Kim', 'Sporer, Ryan Alan', 'Genareo, Vincent R.', 'Follmer, Kayla', 'Fennell, Patrick', 'Jewell, Mollie Anne', 'Anderson, Philip D.', 'Fedorko, Brent', 'Molina, Michael', 'Tchienga, Ines', 'Conrath, Ryan', 'Lamb, Stephanie M.', 'Mrozinski, Abigayle C.', 'Chapman, Hayley A.', 'Schlehofer, Michele M.', 'Olortegui, Ashley', 'Pandey, Anjali', 'Park, Minseok', 'Wilson, Abigail', 'Singh, Nitya', 'Miller, Lien', 'Mathers, Ani Manakyan', 'Benner, Jeffrey', 'Baker, Keirsten T.', 'Ali, Bakr', 'Naboulsi, Amar L.', 'Logan, April C.', 'Singh, Nitya P.', 'Bones, Lela', 'Willey, Amanda', 'Sen, Argha', 'Mitchell, Kelsey M.', 'Bush, Domonique', 'Whitehead, George, I', 'Emmert, Jeffrey', 'Caballero, Guillermo', 'Joyner, Robert L., Jr.', 'Emmert, Elizabeth', 'Leonel, Ronei', 'Cottingham, Andrea', 'Hart, Jennifer', 'Simons, Patrick', 'Stanfield, Kellie', 'Taylor, Ryan C.', 'Marinaro, Laura', 'Ortlip, Austin T.', 'Ramseyer, Craig A.', 'Bressman, N. R.', 'Hoffman, Richard C.', 'Ransom, Tami', 'Taylor, Ryan', 'Maykrantz, Sherry A.', 'Hassan, Tehzeeb', 'Nobiling, Brandye D.', 'Ludovici, Rosalind J.', 'Boyd, Gerard', 'Emerson, David J.', 'Wooleyhand, Sean', 'Tomcho, Thomas', 'French, Kara M.', 'Habay, Stephen', 'Tu, Junyi', 'Martino, Andrew', 'Van de Wide, Aurelie', 'Bradley, Christina J.', 'MacDougall, Madison', 'Falcone, Gianna', 'Seldomridge, Lisa A.', 'Coyle, Krystina', 'Lamanca, John', 'Davis, Jeni', 'Schwartz, Alison C.', 'Barnes, Samuel', 'Emerson, Jamie', 'Kim, Sook Hyun', 'Geleta, Samuel B.', 'Harris, Daniel W.', 'Silaphone, K.', 'Fountain, William A.', 'Owens-King, Allessia P.', 'Poddar, Amit', 'Richerson, Rob', 'Rosette, Vincent D.', 'Jarosinski, Judith M.', 'Walker, Elsie', 'Breon, Kathryn', 'Emmert, Elizabeth A. B.', 'Koehler, S.', 'Timmons, Miranda', 'Agarwal, Vinita', 'Clark, Jessica Kennett', 'Berns, Chelsea M.', 'Billups, M. Judith', 'Martin, Jennifer M.', 'Vance, Morgan', 'Han, Eun-Jeong', 'Gimblet, Colin', 'Anthony, Becky', 'Nyland, Jennifer F.', 'Hong Duong', 'Allen, Kimberly', 'Phillips, David S.', 'Tuske, Joerg', 'Villalobos, Laura', 'Carlini, Nicholas A.', 'Nutt, Rita', 'Steele, Rachel R.', 'Kim, Yun Kyoung', 'Bolton, Joshua P.', 'Fox, James', 'Schneider, Gustavo', 'Smith, Kenneth J.', 'Rojas, Anthony J.', 'Bushera, Hakeem', 'Rowe, Emily', 'Peixoto, Sinelia', 'Bergner, Jennifer', 'Hill, Brian', 'Holdai, Veera', 'Carter, Michael S.', 'Wesolowski, S.', 'Kotlowski, Dean J.', 'Cheng, Yijie', 'Gang, KwangWook', 'Follmer, D. Jake', 'Arban, Kathleen', 'McCarty, Michael', 'Daly, E. Susanne', 'Hunter, Kimberly L.', 'Perret, Sally', 'Thomas, L.', 'Mann, Hunter', 'Harbaugh, Jessica', 'Keethaponcalan, S. I.', 'Miller, Timothy S.', 'Erickson, Les', 'Presotto, Andrea', 'Folkoff, Michael E.', 'Carayon, Celine', 'Howell, Julia', \"Evans, La'Tier\", 'Troup, Nicholas', 'Wang, Xiaohong', 'Ancalmo, Juliana', 'Shakur, Asif', 'Whittaker, Amber', 'Osman, Suzanne L.', 'Kuszmaul, Dillon J.', 'Albright, Savannah G.', 'Polkinghorn, Brian D.', 'Cronin, Andrew', 'Thomas, John Z.', 'Hall, Nicole', 'Harris, Mercedes E.', 'Fletcher, Michelle N.', 'Kim, Chan', 'Jewell, Jennifer R.', 'Flint, Carl', 'Othman, Yasmeen', 'Franzak, Judith K.', 'Purohit, Abhishek', 'Schlehofer, Michele M. M.', 'Fritz, Heidi L.', 'Rivera, Allyson', 'Cervantes, Mason', 'Montgomery, Chandini B.', 'Wille, Brendan', 'Stutelberg, Erin', 'Stafford, Kathleen', 'Morris, Paula T.', 'Hopkins, Emily', 'Koval, Michael R.', 'Weaver, Starlin', 'Hamilton, Stuart E.', 'Allen, Samantha', 'Kramer, Michael E.', 'Hatley, James', 'Ference, Gregory C.', 'Hagadorn, Mallory A.', 'Roche, Olivier', 'Scott, Michael', 'Marquette, Lisa', 'DiBartolo, Mary', 'McElroy, Honor', 'Egan, Chrys', 'Pope, Alexander', 'Lahay, Amber R.', 'Staudmyer, Timothy', 'Petersen, Courtney', 'Chambers, Dustin', 'Yoon, David J.', 'Glass, Noah', 'Mirza, Ateeb M.', 'Mcelroy, Honor B.', 'Ratti, Manav', 'Fowler, Garrett', 'Habay, Stephen A.', 'Bhatti, Khadija', 'Sokoloski, Joshua E.', 'Mills, William', 'Ottoni Santiago, Thais Muniz', 'Schuldt, Michael A.', 'Koh, Bibiana D.', 'Johnson, Aaron', 'Gallo, Silviya M.', 'Miller, Julia M.', 'Rocker, Amanda', 'Rohde, Jacki', 'Boyd, Marshall', 'Sarrett, Austin', 'Reid, Tina P.', 'Erickson, Patti T.', 'Hill, Amanda', 'Krach, Noah', 'Hammond, Courtney Nicole', 'Joyce, Ryan', 'Caviglia-Harris, Jill', 'Adams, Stephen B.', 'Kramer, Christian F.', 'Seldomridge, Lisa', 'Quarantillo, Michael E.', 'Nyland, Jennifer', 'Chen, Xuan', 'Boster, Charles', 'Lynch, Kerry E.', 'Rickards, Megan', 'Lee, Byung Ho', 'Rose, Chelsi M.', 'Rittinger, Eric R.', 'Locklear, Robert', 'Kulavuz-Onal, Derya', 'Keifer, David', 'Norman, Brandon', 'Quan, Jing', 'Woodis, Lena A.', 'Green, Daniel', 'Bennett, Harmon', 'Laaouad-dodoo, Soraya', 'Fillebrown, J.', 'Cooper, Sue A.', 'Stoner, Alexander M.', 'Adler, Laurie', 'Nibblett, Kaitlyn', 'Song, Yujia', 'Tiberio, Layla', 'Billups, M. J.', 'Wenke, John', 'Williams, E. Eugene', 'Naumann, Madeline', 'Naing, Yadanar', 'Shifler, Ryan M.', 'Chaudhry, Bilal', 'Muller, Susan M.', 'Cai, Jiacheng', 'Franchi, Giulia', 'Talbert, Bart', 'Hughes, Ryan', 'Lynch, Colleen E.', 'Manole, Denise', 'Li, Ning', 'Bowler, Matthew M.', 'Goyens, Tom', 'Emerson, David', 'Harrington, Gary', 'Hinderer, Katherine A.', 'Insley, Carlton R., III', 'Johnson, David T.', 'Cimiluca, Mark', 'Barry, James', 'Voithofer, Gabrielle', 'Surak, Sarah M.', 'Nieves, John A.', 'Walton, Kristen Post', 'Patel, Shruti', 'Rexroth, Kayla S.', 'Robbins, Ethan', 'Briand, C. H.', 'Groth, Randall', 'Winter, Dorothea M.', 'Franzak, Judith', 'Brown, Voncelia', 'Wulf, Isabel Quintana', 'Scott, Michael S.', 'Wehlan, T.', 'Jing, Yaping', 'Wilhite, Kyle O.', 'Lindner, Nicole C.', 'Bowler, Richard', 'Kobisk, Ashley', 'Labb, Samantha A.', 'Chaudhry, Eaqan A.', 'Kim, Koomi', 'Finch, Maida A.', 'Hylton, Mary', 'Naing, Yadanar T.', 'Bemis, Rhyannon H.', \"O'Sullivan, Shannon E. M.\", 'Ortlip, Austin', 'Williamson, Thea', 'Gonzalez, Aston', 'Grubb, Brittany', 'DiBartolo, Mary C.', 'Valenti, Zackary J.'}\n"
     ]
    }
   ],
   "source": [
    "unique_fac_set: set[str] = set()\n",
    "\n",
    "for category, category_info in cat_dict.items():\n",
    "    for faculty in category_info.faculty:\n",
    "        unique_fac_set.add(faculty)\n",
    "        \n",
    "print(unique_fac_set)"
   ]
  },
  {
   "cell_type": "code",
   "execution_count": 10,
   "metadata": {},
   "outputs": [],
   "source": [
    "from fuzzywuzzy import fuzz, process\n",
    "from itertools import combinations\n",
    "import collections\n",
    "\n",
    "name_groups = collections.defaultdict(list)\n",
    "for name in unique_fac_set:\n",
    "    if name == \"\":\n",
    "        continue\n",
    "    if \", \" in name:\n",
    "        last_name, remainder = name.split(\", \", 1)\n",
    "        first_initial = remainder[0] if remainder else ''\n",
    "    else:\n",
    "        # If there's no comma, split by the first space.\n",
    "        parts = name.split(\" \", 1)\n",
    "        if len(parts) == 2:\n",
    "            last_name, remainder = parts\n",
    "            first_initial = remainder[0] if remainder else ''\n",
    "        else:\n",
    "            # Handle case where there's no space (single-word name)\n",
    "            last_name = name\n",
    "            first_initial = ''\n",
    "    group_key = (last_name, first_initial)\n",
    "    name_groups[group_key].append(name)"
   ]
  },
  {
   "cell_type": "code",
   "execution_count": null,
   "metadata": {},
   "outputs": [],
   "source": [
    "# Function to check similarity\n",
    "count = 0  # Initialize count at the global scope\n",
    "count2 = 0\n",
    "def check_similarity(names):\n",
    "    global count  # Declare count as global to modify the global variable inside this function\n",
    "    pairs = combinations(names, 2)\n",
    "    for item1, item2 in pairs:\n",
    "        # Extract the first names and consider only up to the first space (if present)\n",
    "        first_name1 = item1.split(\", \")[1].split(\" \")[0] if \", \" in item1 else ''\n",
    "        first_name2 = item2.split(\", \")[1].split(\" \")[0] if \", \" in item2 else ''\n",
    "        \n",
    "        # Check if the first letters of the first names match and compare the lengths of the first names\n",
    "        if first_name1[0] == first_name2[0] and len(first_name1) == len(first_name2):\n",
    "            similarity = fuzz.ratio(item1, item2)\n",
    "            print(f'Names \"{item1}\" and \"{item2}\" have a similarity of {similarity}%')\n",
    "            count += 1\n",
    "                \n",
    "def check_similarity_3(names):\n",
    "    global count2  # Declare count as global to modify the global variable inside this function\n",
    "    pairs = combinations(names, 3)\n",
    "    for item1, item2, item3 in pairs:\n",
    "        # Extract the first names and consider only up to the first space (if present)\n",
    "        first_name1 = item1.split(\", \")[1].split(\" \")[0] if \", \" in item1 else ''\n",
    "        first_name2 = item2.split(\", \")[1].split(\" \")[0] if \", \" in item2 else ''\n",
    "        first_name3 = item3.split(\", \")[1].split(\" \")[0] if \", \" in item3 else ''\n",
    "        \n",
    "        # Check if the first letters of the first names match and compare the lengths of the first names\n",
    "        if (first_name1[0] == first_name2[0] and len(first_name1) == len(first_name2) and first_name1[0] == first_name3[0] and len(first_name1) == len(first_name3)) or (first_name2[0] == first_name3[0] and len(first_name2) == len(first_name3)):\n",
    "            similarity = fuzz.ratio(item1, item2)\n",
    "            similarity2 = fuzz.ratio(item2, item3)\n",
    "            print(f'Names \"{item1}\" and \"{item2}\" have a similarity of {similarity}%')\n",
    "            print(f'Names \"{item2}\" and \"{item3}\" have a similarity of {similarity}%')\n",
    "            count2 += 1\n",
    "                \n",
    "# Iterate over the groups and check similarity within each group\n",
    "for group in name_groups.values():\n",
    "    if len(group) > 1 and len(group) < 3:  # Only compare if there are at least 2 names in the group\n",
    "        #print(f\"{group}\")\n",
    "        check_similarity(group)\n",
    "    elif len(group) > 2:\n",
    "        print(f\"\\n{group}\")\n",
    "        check_similarity_3(group)\n",
    "print(f\"\\nNumber of pairs that share the same last name, same first initial, and same first name length: {count}\")\n",
    "print(f\"\\nNumber of triplets that share the same last name, same first initial, and same first name length: {count2}\")"
   ]
  },
  {
   "cell_type": "code",
   "execution_count": null,
   "metadata": {},
   "outputs": [],
   "source": [
    "print(name_groups.keys())"
   ]
  },
  {
   "cell_type": "code",
   "execution_count": 13,
   "metadata": {},
   "outputs": [],
   "source": [
    "def is_name_a_group_key(name, name_groups):\n",
    "    # Reformat name input so it's just the lastname and first initial in order to match the key format in name_groups\n",
    "    if \", \" in name:\n",
    "        last_name, remainder = name.split(\", \", 1)\n",
    "        first_initial = remainder[0] if remainder else ''\n",
    "    else:\n",
    "        # If there is no comma split by the first space\n",
    "        parts = name.split(\" \", 1)\n",
    "        if len(parts) == 2:\n",
    "            last_name, remainder = parts\n",
    "            first_initial = remainder[0] if remainder else ''\n",
    "        else:\n",
    "            # For the case a name is a single word\n",
    "            last_name = name\n",
    "            first_initial = ''\n",
    "\n",
    "    # create a key that matches the key formats in name_groups\n",
    "    group_key = (last_name, first_initial)\n",
    "    \n",
    "    # check if the key exists in name_groups\n",
    "    if group_key in name_groups:\n",
    "        return True, name_groups[group_key]\n",
    "    else:\n",
    "        return False, []"
   ]
  },
  {
   "cell_type": "code",
   "execution_count": null,
   "metadata": {},
   "outputs": [],
   "source": [
    "import re\n",
    "\n",
    "unique_fac_set: set[str] = set()\n",
    "pattern = r'^[A-Za-z]+,\\s[A-Za-z]+\\s[A-Z]\\.$'\n",
    "\n",
    "\n",
    "for category, category_info in cat_dict.items():\n",
    "    for faculty in category_info.faculty:\n",
    "        unique_fac_set.add(faculty)\n",
    "\n",
    "refined_unique_fac_set: set[str] = set()\n",
    "for name in unique_fac_set:\n",
    "    a_group_key = is_name_a_group_key(name, name_groups)\n",
    "    if a_group_key[0]:\n",
    "        values = a_group_key[1]\n",
    "        desired_value: str = \"\"\n",
    "        for value in values:\n",
    "            if re.match(pattern, value):\n",
    "                desired_value = value\n",
    "            else:\n",
    "                desired_value = max(values, key=len)\n",
    "            refined_unique_fac_set.add(desired_value)\n",
    "            \n",
    "# print(unique_fac_set)\n",
    "# print(refined_unique_fac_set)\n",
    "print(f\"Num Elements in UniqueFacSet: {len(unique_fac_set)}\")\n",
    "print(f\"Num Elements in RefinedFacSet: {len(refined_unique_fac_set)}\")\n",
    "\n",
    "new_set: set[str] = unique_fac_set - refined_unique_fac_set\n",
    "# print(f\"Num Elements in NewSet: {len(new_set)}\")\n",
    "\n",
    "new_set_list: list[str] = list(new_set)\n",
    "\n",
    "last_names = {name.split(\", \")[0] for name in new_set}\n",
    "\n",
    "refined_unique_fac_list = list(refined_unique_fac_set)\n",
    "\n",
    "print(\"\\n\")\n",
    "best_matches: list[str] = []\n",
    "for last_name in last_names:\n",
    "    best_match, score = process.extractOne(last_name, refined_unique_fac_list)\n",
    "    best_matches.append(best_match)\n",
    "\n",
    "best_matches.sort()\n",
    "new_set_list.sort()\n",
    "\n",
    "for i in range(len(max(best_matches, new_set_list))):\n",
    "    print(f\"{best_matches[i]}: {new_set_list[i]}\")\n",
    "\n"
   ]
  },
  {
   "cell_type": "code",
   "execution_count": null,
   "metadata": {},
   "outputs": [],
   "source": [
    "for item in refined_unique_fac_list:\n",
    "    print(item)"
   ]
  }
 ],
 "metadata": {
  "kernelspec": {
   "display_name": "myenv",
   "language": "python",
   "name": "python3"
  },
  "language_info": {
   "codemirror_mode": {
    "name": "ipython",
    "version": 3
   },
   "file_extension": ".py",
   "mimetype": "text/x-python",
   "name": "python",
   "nbconvert_exporter": "python",
   "pygments_lexer": "ipython3",
   "version": "3.9.18"
  }
 },
 "nbformat": 4,
 "nbformat_minor": 2
}
