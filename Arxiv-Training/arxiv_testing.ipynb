{
  "nbformat": 4,
  "nbformat_minor": 0,
  "metadata": {
    "colab": {
      "provenance": [],
      "authorship_tag": "ABX9TyPBIYQh/sAJ8t/FnYzSCbH2",
      "include_colab_link": true
    },
    "kernelspec": {
      "name": "python3",
      "display_name": "Python 3"
    },
    "language_info": {
      "name": "python"
    }
  },
  "cells": [
    {
      "cell_type": "markdown",
      "metadata": {
        "id": "view-in-github",
        "colab_type": "text"
      },
      "source": [
        "<a href=\"https://colab.research.google.com/github/cbarbes1/Rommel-Center-Research/blob/Arxiv-testing/Arxiv-Training/arxiv_testing.ipynb\" target=\"_parent\"><img src=\"https://colab.research.google.com/assets/colab-badge.svg\" alt=\"Open In Colab\"/></a>"
      ]
    },
    {
      "cell_type": "code",
      "execution_count": 3,
      "metadata": {
        "colab": {
          "base_uri": "https://localhost:8080/"
        },
        "id": "vIvHveEDOarA",
        "outputId": "6d662b2d-5019-4b0c-c57e-1038712b7b38"
      },
      "outputs": [
        {
          "output_type": "stream",
          "name": "stdout",
          "text": [
            "Consistent eccentricities for gravitational wave astronomy: Resolving discrepancies between astrophysical simulations and waveform models\n",
            "Phonon and defect mediated quantum anomalous Hall insulator to metal transition in magnetically doped topological insulators\n",
            "Hybrid acousto-optical swing-up preparation of exciton and biexciton states in a quantum dot\n",
            "Equivalence of cost concentration and gradient vanishing for quantum circuits: an elementary proof in the Riemannian formulation\n",
            "On co-dimension 2 defect anomalies in N=4 SYM and (2,0) theory via brane probes in AdS/CFT\n",
            "Virtual Channel Purification\n",
            "Stabilizer entropy of quantum tetrahedra\n",
            "Exact lower bound of the uncertainty principle product for the harmonic oscillator with position-momentum coupling\n",
            "Encoding Majorana codes\n",
            "Surface gravity in spherically symmetric collapsing stars\n",
            "['Consistent eccentricities for gravitational wave astronomy: Resolving discrepancies between astrophysical simulations and waveform models', 'Phonon and defect mediated quantum anomalous Hall insulator to metal transition in magnetically doped topological insulators', 'Hybrid acousto-optical swing-up preparation of exciton and biexciton states in a quantum dot', 'Equivalence of cost concentration and gradient vanishing for quantum circuits: an elementary proof in the Riemannian formulation', 'On co-dimension 2 defect anomalies in N=4 SYM and (2,0) theory via brane probes in AdS/CFT', 'Virtual Channel Purification', 'Stabilizer entropy of quantum tetrahedra', 'Exact lower bound of the uncertainty principle product for the harmonic oscillator with position-momentum coupling', 'Encoding Majorana codes', 'Surface gravity in spherically symmetric collapsing stars']\n",
            "http://arxiv.org/abs/cond-mat/0603029v1\n",
            "From stripe to checkerboard order on the square lattice in the presence of quenched disorder\n"
          ]
        }
      ],
      "source": [
        "#%pip install arxiv\n",
        "import arxiv\n",
        "\n",
        "client = arxiv.Client()\n",
        "\n",
        "# Search for the 10 most recent articles matching the keyword \"quantum.\"\n",
        "search = arxiv.Search(\n",
        "  query = \"quantum\",\n",
        "  max_results = 10,\n",
        "  sort_by = arxiv.SortCriterion.SubmittedDate\n",
        ")\n",
        "\n",
        "results = client.results(search)\n",
        "\n",
        "# `results` is a generator; you can iterate over its elements one by one...\n",
        "for r in client.results(search):\n",
        "  print(r.title)\n",
        "# ...or exhaust it into a list. Careful: this is slow for large results sets.\n",
        "all_results = list(results)\n",
        "print([r.title for r in all_results])\n",
        "\n",
        "# For advanced query syntax documentation, see the arXiv API User Manual:\n",
        "# https://arxiv.org/help/api/user-manual#query_details\n",
        "search = arxiv.Search(query = \"au:del_maestro AND ti:checkerboard\")\n",
        "first_result = next(client.results(search))\n",
        "print(first_result)\n",
        "\n",
        "# Search for the paper with ID \"1605.08386v1\"\n",
        "search_by_id = arxiv.Search(id_list=[\"1605.08386v1\"])\n",
        "# Reuse client to fetch the paper, then print its title.\n",
        "first_result = next(client.results(search))\n",
        "print(first_result.title)"
      ]
    },
    {
      "cell_type": "code",
      "source": [
        "#%pip install bertopic\n",
        "import arxiv\n",
        "from bertopic import BERTopic\n",
        "\n",
        "\n",
        "client = arxiv.Client()\n",
        "\n",
        "search = arxiv.Search(\n",
        "   query = \"Computer Science\",\n",
        "   max_results = 10,\n",
        "   sort_by = arxiv.SortCriterion.Relevance\n",
        "   )\n",
        "\n",
        "#results = client.results(search)\n",
        "\n",
        "# `results` is a generator; you can iterate over its elements one by one...\n",
        "# for r in client.results(search):\n",
        "#    print(r.title)\n",
        "\n",
        "docs = [i.summary for i in client.results(search)]\n",
        "\n",
        "print(docs)\n",
        "\n",
        "topic_model = BERTopic()\n",
        "topics, probs = topic_model.fit_transform(docs)"
      ],
      "metadata": {
        "colab": {
          "base_uri": "https://localhost:8080/"
        },
        "id": "65BgW50xVsMF",
        "outputId": "3ba6e4e8-fe4c-4229-f43b-29f64ec74d77"
      },
      "execution_count": 31,
      "outputs": [
        {
          "output_type": "stream",
          "name": "stdout",
          "text": [
            "['The article retraces major events and milestones in the mutual influences\\nbetween mathematical logic and computer science since the 1950s.', 'Although data science builds on knowledge from computer science, mathematics,\\nstatistics, and other disciplines, data science is a unique field with many\\nmysteries to unlock: challenging scientific questions and pressing questions of\\nsocietal importance. This article starts with meta-questions about data science\\nas a discipline and then elaborates on ten ideas for the basis of a research\\nagenda for data science.', 'Data science is gaining more and more and widespread attention, but no\\nconsensus viewpoint on what data science is has emerged. As a new science, its\\nobjects of study and scientific issues should not be covered by established\\nsciences. Data in cyberspace have formed what we call datanature. In the\\npresent paper, data science is defined as the science of exploring datanature.', \"Through online anecdotal evidence and online communities, there is an\\nin-group idea of trans people (specifically trans-feminine individuals)\\ndisproportionately entering computer science education & fields. Existing data\\nsuggests this is a plausible trend, yet no research has been done into exactly\\nwhy. As computer science education (traditional schooling or self-taught\\nmethods) is integral to working in computer science fields, a simple research\\nsurvey was conducted to gather data on 138 trans people's experiences with\\ncomputer science & computer science education. This article's purpose is to\\nshed insight on the motivations for trans individuals choosing computer science\\npaths, while acting as a basis and call to action for further research.\", 'MEMICS provides a forum for doctoral students interested in applications of\\nmathematical and engineering methods in computer science. Besides a rich\\ntechnical programme (including invited talks, regular papers, and\\npresentations), MEMICS also offers friendly social activities and exciting\\nopportunities for meeting like-minded people. MEMICS submissions traditionally\\ncover all areas of computer science (such as parallel and distributed\\ncomputing, computer networks, modern hardware and its design, non-traditional\\ncomputing architectures, information systems and databases, multimedia and\\ngraphics, verification and testing, computer security, as well as all related\\nareas of theoretical computer science).', 'In computational science and in computer science, research software is a\\ncentral asset for research. Computational science is the application of\\ncomputer science and software engineering principles to solving scientific\\nproblems, whereas computer science is the study of computer hardware and\\nsoftware design.\\n  The Open Science agenda holds that science advances faster when we can build\\non existing results. Therefore, research software has to be reusable for\\nadvancing science. Thus, we need proper research software engineering for\\nobtaining reusable and sustainable research software. This way, software\\nengineering methods may improve research in other disciplines. However,\\nresearch in software engineering and computer science itself will also benefit\\nfrom reuse when research software is involved.\\n  For good scientific practice, the resulting research software should be open\\nand adhere to the FAIR principles (findable, accessible, interoperable and\\nrepeatable) to allow repeatability, reproducibility, and reuse. Compared to\\nresearch data, research software should be both archived for reproducibility\\nand actively maintained for reusability. The FAIR data principles do not\\nrequire openness, but research software should be open source software.\\nEstablished open source software licenses provide sufficient licensing options,\\nsuch that it should be the rare exception to keep research software closed.\\n  We review and analyze the current state in this area in order to give\\nrecommendations for making computer science research software FAIR and open. We\\nobserve that research software publishing practices in computer science and in\\ncomputational science show significant differences.', 'We develop a polynomial translation from finite control pi-calculus processes\\nto safe low-level Petri nets. To our knowledge, this is the first such\\ntranslation. It is natural in that there is a close correspondence between the\\ncontrol flows, enjoys a bisimulation result, and is suitable for practical\\nmodel checking.', 'Computational medical XR (extended reality) brings together life sciences and\\nneuroscience with mathematics, engineering, and computer science. It unifies\\ncomputational science (scientific computing) with intelligent extended reality\\nand spatial computing for the medical field. It significantly extends previous\\nClinical XR, by integrating computational methods from neural simulation to\\ncomputational geometry, computational vision and computer graphics up to\\ntheoretical computer science to solve hard problems in medicine and\\nneuroscience: from low-code/no-code authoring medical XR platforms to deep\\nlearning systems for diagnostics, therapeutics, rehabilitation and from\\nsurgical planning to real-time operative navigation in XR.', 'Possible for science itself, conceptually, to have and will understand\\ndifferently, let alone science also seen as technology, such as computer\\nscience. After all, science and technology are viewpoints diverse by either\\nindividual, community, or social. Generally, it depends on socioeconomic\\ncapabilities. So it is with computer science has become a phenomenon and\\nfashionable, where based on the stream of documents, various issues arise in\\neither its theory or implementation, adapting different communities, or\\ndesigning curriculum holds in the education system.', 'We show that the higher-order matching problem is decidable using a\\ngame-theoretic argument.']\n"
          ]
        }
      ]
    },
    {
      "cell_type": "code",
      "source": [
        "topic_model.get_topic(0)"
      ],
      "metadata": {
        "colab": {
          "base_uri": "https://localhost:8080/"
        },
        "id": "5my-uNmAh86I",
        "outputId": "5371eb74-6012-49db-d1d0-433c83076fef"
      },
      "execution_count": 32,
      "outputs": [
        {
          "output_type": "execute_result",
          "data": {
            "text/plain": [
              "False"
            ]
          },
          "metadata": {},
          "execution_count": 32
        }
      ]
    }
  ]
}